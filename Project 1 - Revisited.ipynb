{
 "cells": [
  {
   "cell_type": "markdown",
   "id": "83b0ed60",
   "metadata": {},
   "source": [
    "# Predicting Supermarket Sales\n",
    "- Andrea Cohen\n",
    "- 03.22.23"
   ]
  },
  {
   "cell_type": "markdown",
   "id": "b4126ee7",
   "metadata": {},
   "source": [
    "## Data:\n",
    "- Original data source\n",
    "https://datahack.analyticsvidhya.com/contest/practice-problem-big-mart-sales-iii/"
   ]
  },
  {
   "cell_type": "markdown",
   "id": "a077ef04",
   "metadata": {},
   "source": [
    "## Data Dictionary:\n",
    "\n",
    "Variable Name | Description\n",
    "---| ---\n",
    "Item_Identifier| Unique product ID\n",
    "Item_Weight| Weight of product\n",
    "Item_Fat_Content| Whether the product is low fat or regular\n",
    "Item_Visibility| The percentage of total display area of all products in a store allocated to the particular product\n",
    "Item_Type| The category to which the product belongs\n",
    "Item_MRP| Maximum Retail Price (list price) of the product\n",
    "Outlet_Identifier| Unique store ID\n",
    "Outlet_Establishment_Year| The year in which store was established\n",
    "Outlet_Size| The size of the store in terms of ground area covered\n",
    "Outlet_Location_Type| The type of area in which the store is located\n",
    "Outlet_Type| Whether the outlet is a grocery store or some sort of supermarket\n",
    "Item_Outlet_Sales| Sales of the product in the particular store. This is the target variable to be predicted.\n"
   ]
  },
  {
   "cell_type": "markdown",
   "id": "bec4eb4b",
   "metadata": {},
   "source": [
    "## Preliminary steps"
   ]
  },
  {
   "cell_type": "markdown",
   "id": "117aa637",
   "metadata": {},
   "source": [
    "### Imports"
   ]
  },
  {
   "cell_type": "code",
   "execution_count": 1,
   "id": "4806347e",
   "metadata": {},
   "outputs": [],
   "source": [
    "import pandas as pd\n",
    "import numpy as np\n",
    "import matplotlib.pyplot as plt\n",
    "import seaborn as sns\n",
    "from sklearn.model_selection import train_test_split\n",
    "from sklearn.compose import make_column_transformer, make_column_selector\n",
    "from sklearn.pipeline import make_pipeline\n",
    "from sklearn.preprocessing import OneHotEncoder\n",
    "from sklearn.impute import SimpleImputer\n",
    "from sklearn import metrics\n",
    "from sklearn.linear_model import LinearRegression\n",
    "from sklearn.tree import DecisionTreeRegressor\n",
    "import joblib"
   ]
  },
  {
   "cell_type": "markdown",
   "id": "3bdbbdad",
   "metadata": {},
   "source": [
    "### Set the random state for reproducibility"
   ]
  },
  {
   "cell_type": "code",
   "execution_count": 2,
   "id": "98072e57",
   "metadata": {},
   "outputs": [],
   "source": [
    "SEED = 321\n",
    "np.random.seed(SEED)"
   ]
  },
  {
   "cell_type": "markdown",
   "id": "aafb251e",
   "metadata": {},
   "source": [
    "### Set pandas to display more columns\n"
   ]
  },
  {
   "cell_type": "code",
   "execution_count": 3,
   "id": "c7b11ede",
   "metadata": {},
   "outputs": [],
   "source": [
    "pd.set_option('display.max_columns', 50)"
   ]
  },
  {
   "cell_type": "markdown",
   "id": "65c59a60",
   "metadata": {},
   "source": [
    "### Suppress scientific notation in pandas"
   ]
  },
  {
   "cell_type": "code",
   "execution_count": 4,
   "id": "405226f5",
   "metadata": {},
   "outputs": [],
   "source": [
    "pd.set_option('display.float_format', lambda x: f\"{x:,.2f}\")"
   ]
  },
  {
   "cell_type": "markdown",
   "id": "87accc00",
   "metadata": {},
   "source": [
    "### Custom functions"
   ]
  },
  {
   "cell_type": "code",
   "execution_count": 5,
   "id": "f08992df",
   "metadata": {},
   "outputs": [],
   "source": [
    "# for evaluating a regression model using r-squared and RMSE\n",
    "def evaluate_regression(model, X_train, y_train, X_test, y_test): \n",
    "    y_pred_train = model.predict(X_train)\n",
    "    r2_train = metrics.r2_score(y_train, y_pred_train)\n",
    "    rmse_train = metrics.mean_squared_error(y_train, y_pred_train, squared = False)\n",
    "    print(f\"Training Data:\\tR^2= {r2_train:.2f}\\tRMSE= {rmse_train:.2f}\")\n",
    "    y_pred_test = model.predict(X_test)\n",
    "    r2_test = metrics.r2_score(y_test, y_pred_test)\n",
    "    rmse_test = metrics.mean_squared_error(y_test, y_pred_test, squared = False)\n",
    "    print(f\"Test Data:\\tR^2= {r2_test:.2f}\\tRMSE= {rmse_test:.2f}\")"
   ]
  },
  {
   "cell_type": "code",
   "execution_count": 6,
   "id": "dc97c0f0",
   "metadata": {},
   "outputs": [],
   "source": [
    "# for annotating hbars\n",
    "def annotate_hbars(ax, ha = 'left', va = 'center', size = 12, xytext = (4,0),\n",
    "                  textcoords = 'offset points'):\n",
    "    for bar in ax.patches:\n",
    "        bar_ax = bar.get_y() + bar.get_height()/2\n",
    "        val = bar.get_width()\n",
    "        if val < 0:\n",
    "            val_pos = 0\n",
    "        else:\n",
    "            val_pos = val\n",
    "        ax.annotate(f\"{val:.3f}\", (val_pos, bar_ax), ha = ha, va = va, size = size,\n",
    "                        xytext = xytext, textcoords = textcoords)"
   ]
  },
  {
   "cell_type": "code",
   "execution_count": 7,
   "id": "8b7bfd7a",
   "metadata": {},
   "outputs": [],
   "source": [
    "# for plotting coefficients with annotation\n",
    "def plot_coeffs(coeffs, top_n = None,  figsize = (4,5), \n",
    "                intercept = False,  intercept_name = \"intercept\", \n",
    "                annotate = False, ha = 'left', va = 'center', size = 12, \n",
    "                xytext = (4,0), textcoords = 'offset points'):\n",
    "    if (intercept==False) & (intercept_name in coeffs.index):\n",
    "        coeffs = coeffs.drop(intercept_name)\n",
    "    if top_n==None:\n",
    "        plot_vals = coeffs\n",
    "        title = \"All Coefficients\"\n",
    "    else:\n",
    "        coeff_rank = coeffs.abs().rank().sort_values(ascending = False)\n",
    "        top_n_features = coeff_rank.head(top_n)\n",
    "        plot_vals = coeffs.loc[top_n_features.index].sort_values()\n",
    "        title = f\"{top_n} Largest Coefficients\"\n",
    "    ax = plot_vals.plot(kind = 'barh', figsize = figsize)\n",
    "    ax.set(xlabel = 'Coefficient', ylabel = 'Feature Names', title = title)\n",
    "    ax.axvline(0, color = 'k')\n",
    "    if annotate==True:\n",
    "        annotate_hbars(ax, ha = ha, va = va, size = size, xytext = xytext, textcoords = textcoords)\n",
    "    return ax"
   ]
  },
  {
   "cell_type": "code",
   "execution_count": 8,
   "id": "6eae1ac8",
   "metadata": {},
   "outputs": [],
   "source": [
    "# for feature importance\n",
    "def get_importances(model, feature_names = None, name = 'Feature Importance', sort = False, ascending = True):\n",
    "    if feature_names == None:\n",
    "        feature_names = model.feature_names_in_\n",
    "    importances = pd.Series(model.feature_importances_, index = feature_names, name = name)\n",
    "    if sort == True:\n",
    "        importances = importances.sort_values(ascending = ascending)\n",
    "    return importances"
   ]
  },
  {
   "cell_type": "code",
   "execution_count": 9,
   "id": "b2dcac12",
   "metadata": {},
   "outputs": [],
   "source": [
    "# for plotting importances\n",
    "def plot_importance(importances, top_n = None,  figsize = (8,6)):\n",
    "    if top_n == None:\n",
    "        plot_vals = importances.sort_values()\n",
    "        title = \"All Features - Ranked by Importance\"\n",
    "    else:\n",
    "        plot_vals = importances.sort_values().tail(top_n)\n",
    "        title = f\"Top {top_n} Most Important Features\"\n",
    "    ax = plot_vals.plot(kind = 'barh', figsize = figsize)\n",
    "    ax.set(xlabel = 'Importance', ylabel = 'Feature Names', title = title)\n",
    "    return ax"
   ]
  },
  {
   "cell_type": "markdown",
   "id": "cecfb1c4",
   "metadata": {},
   "source": [
    "### Load the data"
   ]
  },
  {
   "cell_type": "code",
   "execution_count": 10,
   "id": "9d174641",
   "metadata": {},
   "outputs": [
    {
     "data": {
      "text/html": [
       "<div>\n",
       "<style scoped>\n",
       "    .dataframe tbody tr th:only-of-type {\n",
       "        vertical-align: middle;\n",
       "    }\n",
       "\n",
       "    .dataframe tbody tr th {\n",
       "        vertical-align: top;\n",
       "    }\n",
       "\n",
       "    .dataframe thead th {\n",
       "        text-align: right;\n",
       "    }\n",
       "</style>\n",
       "<table border=\"1\" class=\"dataframe\">\n",
       "  <thead>\n",
       "    <tr style=\"text-align: right;\">\n",
       "      <th></th>\n",
       "      <th>Item_Identifier</th>\n",
       "      <th>Item_Weight</th>\n",
       "      <th>Item_Fat_Content</th>\n",
       "      <th>Item_Visibility</th>\n",
       "      <th>Item_Type</th>\n",
       "      <th>Item_MRP</th>\n",
       "      <th>Outlet_Identifier</th>\n",
       "      <th>Outlet_Establishment_Year</th>\n",
       "      <th>Outlet_Size</th>\n",
       "      <th>Outlet_Location_Type</th>\n",
       "      <th>Outlet_Type</th>\n",
       "      <th>Item_Outlet_Sales</th>\n",
       "    </tr>\n",
       "  </thead>\n",
       "  <tbody>\n",
       "    <tr>\n",
       "      <th>0</th>\n",
       "      <td>FDA15</td>\n",
       "      <td>9.30</td>\n",
       "      <td>Low Fat</td>\n",
       "      <td>0.02</td>\n",
       "      <td>Dairy</td>\n",
       "      <td>249.81</td>\n",
       "      <td>OUT049</td>\n",
       "      <td>1999</td>\n",
       "      <td>Medium</td>\n",
       "      <td>Tier 1</td>\n",
       "      <td>Supermarket Type1</td>\n",
       "      <td>3,735.14</td>\n",
       "    </tr>\n",
       "    <tr>\n",
       "      <th>1</th>\n",
       "      <td>DRC01</td>\n",
       "      <td>5.92</td>\n",
       "      <td>Regular</td>\n",
       "      <td>0.02</td>\n",
       "      <td>Soft Drinks</td>\n",
       "      <td>48.27</td>\n",
       "      <td>OUT018</td>\n",
       "      <td>2009</td>\n",
       "      <td>Medium</td>\n",
       "      <td>Tier 3</td>\n",
       "      <td>Supermarket Type2</td>\n",
       "      <td>443.42</td>\n",
       "    </tr>\n",
       "    <tr>\n",
       "      <th>2</th>\n",
       "      <td>FDN15</td>\n",
       "      <td>17.50</td>\n",
       "      <td>Low Fat</td>\n",
       "      <td>0.02</td>\n",
       "      <td>Meat</td>\n",
       "      <td>141.62</td>\n",
       "      <td>OUT049</td>\n",
       "      <td>1999</td>\n",
       "      <td>Medium</td>\n",
       "      <td>Tier 1</td>\n",
       "      <td>Supermarket Type1</td>\n",
       "      <td>2,097.27</td>\n",
       "    </tr>\n",
       "    <tr>\n",
       "      <th>3</th>\n",
       "      <td>FDX07</td>\n",
       "      <td>19.20</td>\n",
       "      <td>Regular</td>\n",
       "      <td>0.00</td>\n",
       "      <td>Fruits and Vegetables</td>\n",
       "      <td>182.09</td>\n",
       "      <td>OUT010</td>\n",
       "      <td>1998</td>\n",
       "      <td>NaN</td>\n",
       "      <td>Tier 3</td>\n",
       "      <td>Grocery Store</td>\n",
       "      <td>732.38</td>\n",
       "    </tr>\n",
       "    <tr>\n",
       "      <th>4</th>\n",
       "      <td>NCD19</td>\n",
       "      <td>8.93</td>\n",
       "      <td>Low Fat</td>\n",
       "      <td>0.00</td>\n",
       "      <td>Household</td>\n",
       "      <td>53.86</td>\n",
       "      <td>OUT013</td>\n",
       "      <td>1987</td>\n",
       "      <td>High</td>\n",
       "      <td>Tier 3</td>\n",
       "      <td>Supermarket Type1</td>\n",
       "      <td>994.71</td>\n",
       "    </tr>\n",
       "  </tbody>\n",
       "</table>\n",
       "</div>"
      ],
      "text/plain": [
       "  Item_Identifier  Item_Weight Item_Fat_Content  Item_Visibility  \\\n",
       "0           FDA15         9.30          Low Fat             0.02   \n",
       "1           DRC01         5.92          Regular             0.02   \n",
       "2           FDN15        17.50          Low Fat             0.02   \n",
       "3           FDX07        19.20          Regular             0.00   \n",
       "4           NCD19         8.93          Low Fat             0.00   \n",
       "\n",
       "               Item_Type  Item_MRP Outlet_Identifier  \\\n",
       "0                  Dairy    249.81            OUT049   \n",
       "1            Soft Drinks     48.27            OUT018   \n",
       "2                   Meat    141.62            OUT049   \n",
       "3  Fruits and Vegetables    182.09            OUT010   \n",
       "4              Household     53.86            OUT013   \n",
       "\n",
       "   Outlet_Establishment_Year Outlet_Size Outlet_Location_Type  \\\n",
       "0                       1999      Medium               Tier 1   \n",
       "1                       2009      Medium               Tier 3   \n",
       "2                       1999      Medium               Tier 1   \n",
       "3                       1998         NaN               Tier 3   \n",
       "4                       1987        High               Tier 3   \n",
       "\n",
       "         Outlet_Type  Item_Outlet_Sales  \n",
       "0  Supermarket Type1           3,735.14  \n",
       "1  Supermarket Type2             443.42  \n",
       "2  Supermarket Type1           2,097.27  \n",
       "3      Grocery Store             732.38  \n",
       "4  Supermarket Type1             994.71  "
      ]
     },
     "metadata": {},
     "output_type": "display_data"
    },
    {
     "name": "stdout",
     "output_type": "stream",
     "text": [
      "<class 'pandas.core.frame.DataFrame'>\n",
      "RangeIndex: 8523 entries, 0 to 8522\n",
      "Data columns (total 12 columns):\n",
      " #   Column                     Non-Null Count  Dtype  \n",
      "---  ------                     --------------  -----  \n",
      " 0   Item_Identifier            8523 non-null   object \n",
      " 1   Item_Weight                7060 non-null   float64\n",
      " 2   Item_Fat_Content           8523 non-null   object \n",
      " 3   Item_Visibility            8523 non-null   float64\n",
      " 4   Item_Type                  8523 non-null   object \n",
      " 5   Item_MRP                   8523 non-null   float64\n",
      " 6   Outlet_Identifier          8523 non-null   object \n",
      " 7   Outlet_Establishment_Year  8523 non-null   int64  \n",
      " 8   Outlet_Size                6113 non-null   object \n",
      " 9   Outlet_Location_Type       8523 non-null   object \n",
      " 10  Outlet_Type                8523 non-null   object \n",
      " 11  Item_Outlet_Sales          8523 non-null   float64\n",
      "dtypes: float64(4), int64(1), object(7)\n",
      "memory usage: 799.2+ KB\n"
     ]
    },
    {
     "data": {
      "text/plain": [
       "None"
      ]
     },
     "metadata": {},
     "output_type": "display_data"
    }
   ],
   "source": [
    "df = pd.read_csv('Data/sales_predictions.csv')\n",
    "display(df.head())\n",
    "display(df.info())"
   ]
  },
  {
   "cell_type": "markdown",
   "id": "1406d1fa",
   "metadata": {},
   "source": [
    "### Inspect the data"
   ]
  },
  {
   "cell_type": "code",
   "execution_count": 11,
   "id": "3dc53e67",
   "metadata": {},
   "outputs": [
    {
     "data": {
      "text/plain": [
       "(8523, 12)"
      ]
     },
     "execution_count": 11,
     "metadata": {},
     "output_type": "execute_result"
    }
   ],
   "source": [
    "#how many rows and columns?\n",
    "df.shape"
   ]
  },
  {
   "cell_type": "markdown",
   "id": "703e6a23",
   "metadata": {},
   "source": [
    "- There are 8523 rows and 12 columns."
   ]
  },
  {
   "cell_type": "code",
   "execution_count": 12,
   "id": "6fcd11bc",
   "metadata": {},
   "outputs": [
    {
     "data": {
      "text/plain": [
       "Item_Identifier               object\n",
       "Item_Weight                  float64\n",
       "Item_Fat_Content              object\n",
       "Item_Visibility              float64\n",
       "Item_Type                     object\n",
       "Item_MRP                     float64\n",
       "Outlet_Identifier             object\n",
       "Outlet_Establishment_Year      int64\n",
       "Outlet_Size                   object\n",
       "Outlet_Location_Type          object\n",
       "Outlet_Type                   object\n",
       "Item_Outlet_Sales            float64\n",
       "dtype: object"
      ]
     },
     "execution_count": 12,
     "metadata": {},
     "output_type": "execute_result"
    }
   ],
   "source": [
    "#what are the datatypes of each variable?\n",
    "df.dtypes"
   ]
  },
  {
   "cell_type": "markdown",
   "id": "c42f67a9",
   "metadata": {},
   "source": [
    "- Item_Identifier, Item_Fat_Content, Item_Type, Outlet_Identifier, Outlet_Size, Outlet_Location_Type, and Outlet_Type are all datatype object.\n",
    "- Item_Weight, Item_Visibility, Item_MRP, and Item_Outlet Sales are all datatype float64.\n",
    "- Item_Establishment_Year is datatype int64."
   ]
  },
  {
   "cell_type": "code",
   "execution_count": 13,
   "id": "6d9a1eba",
   "metadata": {},
   "outputs": [
    {
     "data": {
      "text/html": [
       "<div>\n",
       "<style scoped>\n",
       "    .dataframe tbody tr th:only-of-type {\n",
       "        vertical-align: middle;\n",
       "    }\n",
       "\n",
       "    .dataframe tbody tr th {\n",
       "        vertical-align: top;\n",
       "    }\n",
       "\n",
       "    .dataframe thead th {\n",
       "        text-align: right;\n",
       "    }\n",
       "</style>\n",
       "<table border=\"1\" class=\"dataframe\">\n",
       "  <thead>\n",
       "    <tr style=\"text-align: right;\">\n",
       "      <th></th>\n",
       "      <th>Item_Weight</th>\n",
       "      <th>Item_Visibility</th>\n",
       "      <th>Item_MRP</th>\n",
       "      <th>Outlet_Establishment_Year</th>\n",
       "      <th>Item_Outlet_Sales</th>\n",
       "    </tr>\n",
       "  </thead>\n",
       "  <tbody>\n",
       "    <tr>\n",
       "      <th>count</th>\n",
       "      <td>7,060.00</td>\n",
       "      <td>8,523.00</td>\n",
       "      <td>8,523.00</td>\n",
       "      <td>8,523.00</td>\n",
       "      <td>8,523.00</td>\n",
       "    </tr>\n",
       "    <tr>\n",
       "      <th>mean</th>\n",
       "      <td>12.86</td>\n",
       "      <td>0.07</td>\n",
       "      <td>140.99</td>\n",
       "      <td>1,997.83</td>\n",
       "      <td>2,181.29</td>\n",
       "    </tr>\n",
       "    <tr>\n",
       "      <th>std</th>\n",
       "      <td>4.64</td>\n",
       "      <td>0.05</td>\n",
       "      <td>62.28</td>\n",
       "      <td>8.37</td>\n",
       "      <td>1,706.50</td>\n",
       "    </tr>\n",
       "    <tr>\n",
       "      <th>min</th>\n",
       "      <td>4.55</td>\n",
       "      <td>0.00</td>\n",
       "      <td>31.29</td>\n",
       "      <td>1,985.00</td>\n",
       "      <td>33.29</td>\n",
       "    </tr>\n",
       "    <tr>\n",
       "      <th>25%</th>\n",
       "      <td>8.77</td>\n",
       "      <td>0.03</td>\n",
       "      <td>93.83</td>\n",
       "      <td>1,987.00</td>\n",
       "      <td>834.25</td>\n",
       "    </tr>\n",
       "    <tr>\n",
       "      <th>50%</th>\n",
       "      <td>12.60</td>\n",
       "      <td>0.05</td>\n",
       "      <td>143.01</td>\n",
       "      <td>1,999.00</td>\n",
       "      <td>1,794.33</td>\n",
       "    </tr>\n",
       "    <tr>\n",
       "      <th>75%</th>\n",
       "      <td>16.85</td>\n",
       "      <td>0.09</td>\n",
       "      <td>185.64</td>\n",
       "      <td>2,004.00</td>\n",
       "      <td>3,101.30</td>\n",
       "    </tr>\n",
       "    <tr>\n",
       "      <th>max</th>\n",
       "      <td>21.35</td>\n",
       "      <td>0.33</td>\n",
       "      <td>266.89</td>\n",
       "      <td>2,009.00</td>\n",
       "      <td>13,086.96</td>\n",
       "    </tr>\n",
       "  </tbody>\n",
       "</table>\n",
       "</div>"
      ],
      "text/plain": [
       "       Item_Weight  Item_Visibility  Item_MRP  Outlet_Establishment_Year  \\\n",
       "count     7,060.00         8,523.00  8,523.00                   8,523.00   \n",
       "mean         12.86             0.07    140.99                   1,997.83   \n",
       "std           4.64             0.05     62.28                       8.37   \n",
       "min           4.55             0.00     31.29                   1,985.00   \n",
       "25%           8.77             0.03     93.83                   1,987.00   \n",
       "50%          12.60             0.05    143.01                   1,999.00   \n",
       "75%          16.85             0.09    185.64                   2,004.00   \n",
       "max          21.35             0.33    266.89                   2,009.00   \n",
       "\n",
       "       Item_Outlet_Sales  \n",
       "count           8,523.00  \n",
       "mean            2,181.29  \n",
       "std             1,706.50  \n",
       "min                33.29  \n",
       "25%               834.25  \n",
       "50%             1,794.33  \n",
       "75%             3,101.30  \n",
       "max            13,086.96  "
      ]
     },
     "metadata": {},
     "output_type": "display_data"
    },
    {
     "data": {
      "text/html": [
       "<div>\n",
       "<style scoped>\n",
       "    .dataframe tbody tr th:only-of-type {\n",
       "        vertical-align: middle;\n",
       "    }\n",
       "\n",
       "    .dataframe tbody tr th {\n",
       "        vertical-align: top;\n",
       "    }\n",
       "\n",
       "    .dataframe thead th {\n",
       "        text-align: right;\n",
       "    }\n",
       "</style>\n",
       "<table border=\"1\" class=\"dataframe\">\n",
       "  <thead>\n",
       "    <tr style=\"text-align: right;\">\n",
       "      <th></th>\n",
       "      <th>Item_Identifier</th>\n",
       "      <th>Item_Fat_Content</th>\n",
       "      <th>Item_Type</th>\n",
       "      <th>Outlet_Identifier</th>\n",
       "      <th>Outlet_Size</th>\n",
       "      <th>Outlet_Location_Type</th>\n",
       "      <th>Outlet_Type</th>\n",
       "    </tr>\n",
       "  </thead>\n",
       "  <tbody>\n",
       "    <tr>\n",
       "      <th>count</th>\n",
       "      <td>8523</td>\n",
       "      <td>8523</td>\n",
       "      <td>8523</td>\n",
       "      <td>8523</td>\n",
       "      <td>6113</td>\n",
       "      <td>8523</td>\n",
       "      <td>8523</td>\n",
       "    </tr>\n",
       "    <tr>\n",
       "      <th>unique</th>\n",
       "      <td>1559</td>\n",
       "      <td>5</td>\n",
       "      <td>16</td>\n",
       "      <td>10</td>\n",
       "      <td>3</td>\n",
       "      <td>3</td>\n",
       "      <td>4</td>\n",
       "    </tr>\n",
       "    <tr>\n",
       "      <th>top</th>\n",
       "      <td>FDW13</td>\n",
       "      <td>Low Fat</td>\n",
       "      <td>Fruits and Vegetables</td>\n",
       "      <td>OUT027</td>\n",
       "      <td>Medium</td>\n",
       "      <td>Tier 3</td>\n",
       "      <td>Supermarket Type1</td>\n",
       "    </tr>\n",
       "    <tr>\n",
       "      <th>freq</th>\n",
       "      <td>10</td>\n",
       "      <td>5089</td>\n",
       "      <td>1232</td>\n",
       "      <td>935</td>\n",
       "      <td>2793</td>\n",
       "      <td>3350</td>\n",
       "      <td>5577</td>\n",
       "    </tr>\n",
       "  </tbody>\n",
       "</table>\n",
       "</div>"
      ],
      "text/plain": [
       "       Item_Identifier Item_Fat_Content              Item_Type  \\\n",
       "count             8523             8523                   8523   \n",
       "unique            1559                5                     16   \n",
       "top              FDW13          Low Fat  Fruits and Vegetables   \n",
       "freq                10             5089                   1232   \n",
       "\n",
       "       Outlet_Identifier Outlet_Size Outlet_Location_Type        Outlet_Type  \n",
       "count               8523        6113                 8523               8523  \n",
       "unique                10           3                    3                  4  \n",
       "top               OUT027      Medium               Tier 3  Supermarket Type1  \n",
       "freq                 935        2793                 3350               5577  "
      ]
     },
     "metadata": {},
     "output_type": "display_data"
    }
   ],
   "source": [
    "display(df.describe(include='number'))\n",
    "display(df.describe(exclude='number'))"
   ]
  },
  {
   "cell_type": "code",
   "execution_count": 14,
   "id": "9009aedb",
   "metadata": {},
   "outputs": [
    {
     "data": {
      "text/plain": [
       "0"
      ]
     },
     "execution_count": 14,
     "metadata": {},
     "output_type": "execute_result"
    }
   ],
   "source": [
    "#are there any duplicates?\n",
    "df.duplicated().sum()"
   ]
  },
  {
   "cell_type": "markdown",
   "id": "e9c528cb",
   "metadata": {},
   "source": [
    "- There are 0 duplicates."
   ]
  },
  {
   "cell_type": "code",
   "execution_count": 15,
   "id": "20b4748e",
   "metadata": {},
   "outputs": [
    {
     "data": {
      "text/plain": [
       "Item_Identifier                 0\n",
       "Item_Weight                  1463\n",
       "Item_Fat_Content                0\n",
       "Item_Visibility                 0\n",
       "Item_Type                       0\n",
       "Item_MRP                        0\n",
       "Outlet_Identifier               0\n",
       "Outlet_Establishment_Year       0\n",
       "Outlet_Size                  2410\n",
       "Outlet_Location_Type            0\n",
       "Outlet_Type                     0\n",
       "Item_Outlet_Sales               0\n",
       "dtype: int64"
      ]
     },
     "execution_count": 15,
     "metadata": {},
     "output_type": "execute_result"
    }
   ],
   "source": [
    "#identify missing values\n",
    "df.isna().sum()"
   ]
  },
  {
   "cell_type": "markdown",
   "id": "04695d6e",
   "metadata": {},
   "source": [
    "- There are 1463 missing values in Item_Weight, and there are 2410 missing values in Outlet_Size."
   ]
  },
  {
   "cell_type": "markdown",
   "id": "3f0227fa",
   "metadata": {},
   "source": [
    "- For the Column 'Item_Weight':\n",
    "    - Dropping rows is not a good option because 17% of rows are missing data--too many (>2%) to just eliminate.\n",
    "    - Dropping columns is not a good option because the weight of the item might be an important property for predicting the sales of that item. Also, <50% of the data are missing, too little to just eliminate.\n",
    "    - Creating a new category is not a good option because the data are type float instead of type object.\n",
    "    - Imputing missing values is a great option because the average (mean) value would likely be closest to the correct value that is missing."
   ]
  },
  {
   "cell_type": "markdown",
   "id": "e9ebf619",
   "metadata": {},
   "source": [
    "- For the column 'Outlet_Size':\n",
    "    - Dropping rows is not a good option because 28% of rows are missing data--too many (>2%) to just eliminate.\n",
    "    - Dropping columns is not a good option because the size of the outlet might be an important property for predicting sales. Also, <50% of the data are missing, too little to just eliminate.\n",
    "    - Imputing missing values is not a good option because the data are type object instead of type float or int.\n",
    "    - Creating a new category is a good option because the information is categorical, and there might be a pattern to the missing data."
   ]
  },
  {
   "cell_type": "code",
   "execution_count": 16,
   "id": "06b6399e",
   "metadata": {},
   "outputs": [
    {
     "name": "stdout",
     "output_type": "stream",
     "text": [
      "Column= Item_Identifier\n",
      "FDW13    10\n",
      "FDG33    10\n",
      "NCY18     9\n",
      "FDD38     9\n",
      "DRE49     9\n",
      "         ..\n",
      "FDY43     1\n",
      "FDQ60     1\n",
      "FDO33     1\n",
      "DRF48     1\n",
      "FDC23     1\n",
      "Name: Item_Identifier, Length: 1559, dtype: int64\n",
      " \n",
      "Column= Item_Fat_Content\n",
      "Low Fat    5089\n",
      "Regular    2889\n",
      "LF          316\n",
      "reg         117\n",
      "low fat     112\n",
      "Name: Item_Fat_Content, dtype: int64\n",
      " \n",
      "Column= Item_Type\n",
      "Fruits and Vegetables    1232\n",
      "Snack Foods              1200\n",
      "Household                 910\n",
      "Frozen Foods              856\n",
      "Dairy                     682\n",
      "Canned                    649\n",
      "Baking Goods              648\n",
      "Health and Hygiene        520\n",
      "Soft Drinks               445\n",
      "Meat                      425\n",
      "Breads                    251\n",
      "Hard Drinks               214\n",
      "Others                    169\n",
      "Starchy Foods             148\n",
      "Breakfast                 110\n",
      "Seafood                    64\n",
      "Name: Item_Type, dtype: int64\n",
      " \n",
      "Column= Outlet_Identifier\n",
      "OUT027    935\n",
      "OUT013    932\n",
      "OUT049    930\n",
      "OUT046    930\n",
      "OUT035    930\n",
      "OUT045    929\n",
      "OUT018    928\n",
      "OUT017    926\n",
      "OUT010    555\n",
      "OUT019    528\n",
      "Name: Outlet_Identifier, dtype: int64\n",
      " \n",
      "Column= Outlet_Size\n",
      "Medium    2793\n",
      "Small     2388\n",
      "High       932\n",
      "Name: Outlet_Size, dtype: int64\n",
      " \n",
      "Column= Outlet_Location_Type\n",
      "Tier 3    3350\n",
      "Tier 2    2785\n",
      "Tier 1    2388\n",
      "Name: Outlet_Location_Type, dtype: int64\n",
      " \n",
      "Column= Outlet_Type\n",
      "Supermarket Type1    5577\n",
      "Grocery Store        1083\n",
      "Supermarket Type3     935\n",
      "Supermarket Type2     928\n",
      "Name: Outlet_Type, dtype: int64\n",
      " \n"
     ]
    }
   ],
   "source": [
    "#find and fix any inconsistent categories of data\n",
    "dtypes = df.dtypes\n",
    "str_cols = dtypes[dtypes=='object'].index\n",
    "for col in str_cols:\n",
    "  print(f'Column= {col}')\n",
    "  print(df[col].value_counts())\n",
    "  print(' ')"
   ]
  },
  {
   "cell_type": "markdown",
   "id": "fd5ab98f",
   "metadata": {},
   "source": [
    "- From the data dictionary, we know that Item_Fat_Content, Item_Type, Outlet_Size, Outlet_Location Type, and Outlet_Type should be categorical data types.\n",
    "- For Item_Fat_Content, Low Fat, LF, and low fat are all probably the same category.\n",
    "- Also Regular and reg are probably the same category.\n",
    "- For the rest of the categorical columns, all data categories appear distinct."
   ]
  },
  {
   "cell_type": "code",
   "execution_count": 17,
   "id": "a1423bce",
   "metadata": {},
   "outputs": [
    {
     "name": "stdout",
     "output_type": "stream",
     "text": [
      "Column = Item_Fat_Content\n"
     ]
    },
    {
     "data": {
      "text/plain": [
       "Low Fat    5517\n",
       "Regular    3006\n",
       "Name: Item_Fat_Content, dtype: int64"
      ]
     },
     "metadata": {},
     "output_type": "display_data"
    }
   ],
   "source": [
    "df['Item_Fat_Content'].replace({'LF': 'Low Fat', 'low fat': 'Low Fat', 'reg': 'Regular'}, inplace=True)\n",
    "print('Column = Item_Fat_Content')\n",
    "display(df['Item_Fat_Content'].value_counts())"
   ]
  },
  {
   "cell_type": "markdown",
   "id": "0e0b5abb",
   "metadata": {},
   "source": [
    "- There are no more inconsistent categories of data."
   ]
  },
  {
   "cell_type": "code",
   "execution_count": 18,
   "id": "ce14fefd",
   "metadata": {},
   "outputs": [
    {
     "data": {
      "text/plain": [
       "Medium    2793\n",
       "Small     2388\n",
       "High       932\n",
       "Name: Outlet_Size, dtype: int64"
      ]
     },
     "execution_count": 18,
     "metadata": {},
     "output_type": "execute_result"
    }
   ],
   "source": [
    "#ordinal encoding\n",
    "df['Outlet_Size'].value_counts()"
   ]
  },
  {
   "cell_type": "code",
   "execution_count": 19,
   "id": "f7520129",
   "metadata": {},
   "outputs": [
    {
     "data": {
      "text/plain": [
       "0      1.00\n",
       "1      1.00\n",
       "2      1.00\n",
       "3       NaN\n",
       "4      2.00\n",
       "       ... \n",
       "8518   2.00\n",
       "8519    NaN\n",
       "8520   0.00\n",
       "8521   1.00\n",
       "8522   0.00\n",
       "Name: Outlet_Size, Length: 8523, dtype: float64"
      ]
     },
     "execution_count": 19,
     "metadata": {},
     "output_type": "execute_result"
    }
   ],
   "source": [
    "replacement_dictionary = {'High':2, 'Medium':1, 'Small':0}\n",
    "df['Outlet_Size'].replace(replacement_dictionary, inplace=True)\n",
    "df['Outlet_Size']"
   ]
  },
  {
   "cell_type": "code",
   "execution_count": 20,
   "id": "8d40830f",
   "metadata": {},
   "outputs": [
    {
     "data": {
      "text/html": [
       "<div>\n",
       "<style scoped>\n",
       "    .dataframe tbody tr th:only-of-type {\n",
       "        vertical-align: middle;\n",
       "    }\n",
       "\n",
       "    .dataframe tbody tr th {\n",
       "        vertical-align: top;\n",
       "    }\n",
       "\n",
       "    .dataframe thead th {\n",
       "        text-align: right;\n",
       "    }\n",
       "</style>\n",
       "<table border=\"1\" class=\"dataframe\">\n",
       "  <thead>\n",
       "    <tr style=\"text-align: right;\">\n",
       "      <th></th>\n",
       "      <th>Item_Weight</th>\n",
       "      <th>Item_Visibility</th>\n",
       "      <th>Item_MRP</th>\n",
       "      <th>Outlet_Establishment_Year</th>\n",
       "      <th>Outlet_Size</th>\n",
       "      <th>Item_Outlet_Sales</th>\n",
       "    </tr>\n",
       "  </thead>\n",
       "  <tbody>\n",
       "    <tr>\n",
       "      <th>count</th>\n",
       "      <td>7,060.00</td>\n",
       "      <td>8,523.00</td>\n",
       "      <td>8,523.00</td>\n",
       "      <td>8,523.00</td>\n",
       "      <td>6,113.00</td>\n",
       "      <td>8,523.00</td>\n",
       "    </tr>\n",
       "    <tr>\n",
       "      <th>mean</th>\n",
       "      <td>12.86</td>\n",
       "      <td>0.07</td>\n",
       "      <td>140.99</td>\n",
       "      <td>1,997.83</td>\n",
       "      <td>0.76</td>\n",
       "      <td>2,181.29</td>\n",
       "    </tr>\n",
       "    <tr>\n",
       "      <th>std</th>\n",
       "      <td>4.64</td>\n",
       "      <td>0.05</td>\n",
       "      <td>62.28</td>\n",
       "      <td>8.37</td>\n",
       "      <td>0.70</td>\n",
       "      <td>1,706.50</td>\n",
       "    </tr>\n",
       "    <tr>\n",
       "      <th>min</th>\n",
       "      <td>4.55</td>\n",
       "      <td>0.00</td>\n",
       "      <td>31.29</td>\n",
       "      <td>1,985.00</td>\n",
       "      <td>0.00</td>\n",
       "      <td>33.29</td>\n",
       "    </tr>\n",
       "    <tr>\n",
       "      <th>25%</th>\n",
       "      <td>8.77</td>\n",
       "      <td>0.03</td>\n",
       "      <td>93.83</td>\n",
       "      <td>1,987.00</td>\n",
       "      <td>0.00</td>\n",
       "      <td>834.25</td>\n",
       "    </tr>\n",
       "    <tr>\n",
       "      <th>50%</th>\n",
       "      <td>12.60</td>\n",
       "      <td>0.05</td>\n",
       "      <td>143.01</td>\n",
       "      <td>1,999.00</td>\n",
       "      <td>1.00</td>\n",
       "      <td>1,794.33</td>\n",
       "    </tr>\n",
       "    <tr>\n",
       "      <th>75%</th>\n",
       "      <td>16.85</td>\n",
       "      <td>0.09</td>\n",
       "      <td>185.64</td>\n",
       "      <td>2,004.00</td>\n",
       "      <td>1.00</td>\n",
       "      <td>3,101.30</td>\n",
       "    </tr>\n",
       "    <tr>\n",
       "      <th>max</th>\n",
       "      <td>21.35</td>\n",
       "      <td>0.33</td>\n",
       "      <td>266.89</td>\n",
       "      <td>2,009.00</td>\n",
       "      <td>2.00</td>\n",
       "      <td>13,086.96</td>\n",
       "    </tr>\n",
       "  </tbody>\n",
       "</table>\n",
       "</div>"
      ],
      "text/plain": [
       "       Item_Weight  Item_Visibility  Item_MRP  Outlet_Establishment_Year  \\\n",
       "count     7,060.00         8,523.00  8,523.00                   8,523.00   \n",
       "mean         12.86             0.07    140.99                   1,997.83   \n",
       "std           4.64             0.05     62.28                       8.37   \n",
       "min           4.55             0.00     31.29                   1,985.00   \n",
       "25%           8.77             0.03     93.83                   1,987.00   \n",
       "50%          12.60             0.05    143.01                   1,999.00   \n",
       "75%          16.85             0.09    185.64                   2,004.00   \n",
       "max          21.35             0.33    266.89                   2,009.00   \n",
       "\n",
       "       Outlet_Size  Item_Outlet_Sales  \n",
       "count     6,113.00           8,523.00  \n",
       "mean          0.76           2,181.29  \n",
       "std           0.70           1,706.50  \n",
       "min           0.00              33.29  \n",
       "25%           0.00             834.25  \n",
       "50%           1.00           1,794.33  \n",
       "75%           1.00           3,101.30  \n",
       "max           2.00          13,086.96  "
      ]
     },
     "execution_count": 20,
     "metadata": {},
     "output_type": "execute_result"
    }
   ],
   "source": [
    "#for any numerical columns obtain the summary statistics of each (min, max, mean)\n",
    "df.describe()"
   ]
  },
  {
   "cell_type": "markdown",
   "id": "024905ea",
   "metadata": {},
   "source": [
    "- The min item weight is 4.56, the max item weight is 21.35, and the mean item weight is 12.86.\n",
    "- The min item visibility is 0.00, the max item visibility is .33, and the mean item visibility is .07.\n",
    "- The min item MRP is 31.29, the max item MRP is 266.89, and the mean item MRP is 140.99.\n",
    "- The min outlet establishment year is 1985, the max outlet establishment year is 2009, and the mean outlet establishment year is 1997.83.\n",
    "- The min item outlet sales is 33.29, the max item outlet sales is 13086.96, and the mean item outlet sales is 2181.29."
   ]
  },
  {
   "cell_type": "code",
   "execution_count": 21,
   "id": "0e8c031c",
   "metadata": {},
   "outputs": [
    {
     "data": {
      "text/plain": [
       "Index(['Item_Weight', 'Item_Fat_Content', 'Item_Visibility', 'Item_Type',\n",
       "       'Item_MRP', 'Outlet_Identifier', 'Outlet_Establishment_Year',\n",
       "       'Outlet_Size', 'Outlet_Location_Type', 'Outlet_Type',\n",
       "       'Item_Outlet_Sales'],\n",
       "      dtype='object')"
      ]
     },
     "execution_count": 21,
     "metadata": {},
     "output_type": "execute_result"
    }
   ],
   "source": [
    "# drop unnecessary columns\n",
    "df = df.drop(columns = ['Item_Identifier'])\n",
    "df.columns"
   ]
  },
  {
   "cell_type": "markdown",
   "id": "dd285ea7",
   "metadata": {},
   "source": [
    "- According to the data dictionary, the Item Identifier is a unique product ID. This information will not help with making predictions."
   ]
  },
  {
   "cell_type": "markdown",
   "id": "2efb84ae",
   "metadata": {},
   "source": [
    "## Remaking, Saving, and Explaining the Models"
   ]
  },
  {
   "cell_type": "markdown",
   "id": "92506b00",
   "metadata": {},
   "source": [
    "### Make X_train and X_test as DataFrames with the feature names extracted from the column transformer"
   ]
  },
  {
   "cell_type": "code",
   "execution_count": 22,
   "id": "87934bcb",
   "metadata": {},
   "outputs": [],
   "source": [
    "# Make x and y variables\n",
    "y = df['Item_Outlet_Sales'].copy()\n",
    "X = df.drop(columns=['Item_Outlet_Sales']).copy()\n",
    "## train-test-split with random state for reproducibility\n",
    "X_train, X_test, y_train, y_test = train_test_split(X, y, random_state=SEED)"
   ]
  },
  {
   "cell_type": "code",
   "execution_count": 23,
   "id": "b4e92c33",
   "metadata": {},
   "outputs": [
    {
     "data": {
      "text/plain": [
       "['Item_Fat_Content',\n",
       " 'Item_Type',\n",
       " 'Outlet_Identifier',\n",
       " 'Outlet_Location_Type',\n",
       " 'Outlet_Type']"
      ]
     },
     "execution_count": 23,
     "metadata": {},
     "output_type": "execute_result"
    }
   ],
   "source": [
    "# make categorical selector and verify it works \n",
    "cat_sel = make_column_selector(dtype_include='object')\n",
    "cat_sel(X_train)"
   ]
  },
  {
   "cell_type": "code",
   "execution_count": 24,
   "id": "2af2c6f3",
   "metadata": {},
   "outputs": [
    {
     "data": {
      "text/plain": [
       "['Item_Weight',\n",
       " 'Item_Visibility',\n",
       " 'Item_MRP',\n",
       " 'Outlet_Establishment_Year',\n",
       " 'Outlet_Size']"
      ]
     },
     "execution_count": 24,
     "metadata": {},
     "output_type": "execute_result"
    }
   ],
   "source": [
    "# make numeric selector and verify it works \n",
    "num_sel = make_column_selector(dtype_include='number')\n",
    "num_sel(X_train)"
   ]
  },
  {
   "cell_type": "code",
   "execution_count": 25,
   "id": "873ca0f8",
   "metadata": {},
   "outputs": [],
   "source": [
    "# make pipelines for categorical vs numeric data\n",
    "cat_pipe = make_pipeline(SimpleImputer(strategy = 'constant', fill_value = 'MISSING'), OneHotEncoder(handle_unknown = 'ignore', sparse = False))\n",
    "num_pipe = make_pipeline(SimpleImputer(strategy = 'mean'))"
   ]
  },
  {
   "cell_type": "code",
   "execution_count": 26,
   "id": "d3951249",
   "metadata": {},
   "outputs": [
    {
     "data": {
      "text/html": [
       "<style>#sk-container-id-1 {color: black;background-color: white;}#sk-container-id-1 pre{padding: 0;}#sk-container-id-1 div.sk-toggleable {background-color: white;}#sk-container-id-1 label.sk-toggleable__label {cursor: pointer;display: block;width: 100%;margin-bottom: 0;padding: 0.3em;box-sizing: border-box;text-align: center;}#sk-container-id-1 label.sk-toggleable__label-arrow:before {content: \"▸\";float: left;margin-right: 0.25em;color: #696969;}#sk-container-id-1 label.sk-toggleable__label-arrow:hover:before {color: black;}#sk-container-id-1 div.sk-estimator:hover label.sk-toggleable__label-arrow:before {color: black;}#sk-container-id-1 div.sk-toggleable__content {max-height: 0;max-width: 0;overflow: hidden;text-align: left;background-color: #f0f8ff;}#sk-container-id-1 div.sk-toggleable__content pre {margin: 0.2em;color: black;border-radius: 0.25em;background-color: #f0f8ff;}#sk-container-id-1 input.sk-toggleable__control:checked~div.sk-toggleable__content {max-height: 200px;max-width: 100%;overflow: auto;}#sk-container-id-1 input.sk-toggleable__control:checked~label.sk-toggleable__label-arrow:before {content: \"▾\";}#sk-container-id-1 div.sk-estimator input.sk-toggleable__control:checked~label.sk-toggleable__label {background-color: #d4ebff;}#sk-container-id-1 div.sk-label input.sk-toggleable__control:checked~label.sk-toggleable__label {background-color: #d4ebff;}#sk-container-id-1 input.sk-hidden--visually {border: 0;clip: rect(1px 1px 1px 1px);clip: rect(1px, 1px, 1px, 1px);height: 1px;margin: -1px;overflow: hidden;padding: 0;position: absolute;width: 1px;}#sk-container-id-1 div.sk-estimator {font-family: monospace;background-color: #f0f8ff;border: 1px dotted black;border-radius: 0.25em;box-sizing: border-box;margin-bottom: 0.5em;}#sk-container-id-1 div.sk-estimator:hover {background-color: #d4ebff;}#sk-container-id-1 div.sk-parallel-item::after {content: \"\";width: 100%;border-bottom: 1px solid gray;flex-grow: 1;}#sk-container-id-1 div.sk-label:hover label.sk-toggleable__label {background-color: #d4ebff;}#sk-container-id-1 div.sk-serial::before {content: \"\";position: absolute;border-left: 1px solid gray;box-sizing: border-box;top: 0;bottom: 0;left: 50%;z-index: 0;}#sk-container-id-1 div.sk-serial {display: flex;flex-direction: column;align-items: center;background-color: white;padding-right: 0.2em;padding-left: 0.2em;position: relative;}#sk-container-id-1 div.sk-item {position: relative;z-index: 1;}#sk-container-id-1 div.sk-parallel {display: flex;align-items: stretch;justify-content: center;background-color: white;position: relative;}#sk-container-id-1 div.sk-item::before, #sk-container-id-1 div.sk-parallel-item::before {content: \"\";position: absolute;border-left: 1px solid gray;box-sizing: border-box;top: 0;bottom: 0;left: 50%;z-index: -1;}#sk-container-id-1 div.sk-parallel-item {display: flex;flex-direction: column;z-index: 1;position: relative;background-color: white;}#sk-container-id-1 div.sk-parallel-item:first-child::after {align-self: flex-end;width: 50%;}#sk-container-id-1 div.sk-parallel-item:last-child::after {align-self: flex-start;width: 50%;}#sk-container-id-1 div.sk-parallel-item:only-child::after {width: 0;}#sk-container-id-1 div.sk-dashed-wrapped {border: 1px dashed gray;margin: 0 0.4em 0.5em 0.4em;box-sizing: border-box;padding-bottom: 0.4em;background-color: white;}#sk-container-id-1 div.sk-label label {font-family: monospace;font-weight: bold;display: inline-block;line-height: 1.2em;}#sk-container-id-1 div.sk-label-container {text-align: center;}#sk-container-id-1 div.sk-container {/* jupyter's `normalize.less` sets `[hidden] { display: none; }` but bootstrap.min.css set `[hidden] { display: none !important; }` so we also need the `!important` here to be able to override the default hidden behavior on the sphinx rendered scikit-learn.org. See: https://github.com/scikit-learn/scikit-learn/issues/21755 */display: inline-block !important;position: relative;}#sk-container-id-1 div.sk-text-repr-fallback {display: none;}</style><div id=\"sk-container-id-1\" class=\"sk-top-container\"><div class=\"sk-text-repr-fallback\"><pre>ColumnTransformer(transformers=[(&#x27;pipeline-1&#x27;,\n",
       "                                 Pipeline(steps=[(&#x27;simpleimputer&#x27;,\n",
       "                                                  SimpleImputer())]),\n",
       "                                 &lt;sklearn.compose._column_transformer.make_column_selector object at 0x13b1cc370&gt;),\n",
       "                                (&#x27;pipeline-2&#x27;,\n",
       "                                 Pipeline(steps=[(&#x27;simpleimputer&#x27;,\n",
       "                                                  SimpleImputer(fill_value=&#x27;MISSING&#x27;,\n",
       "                                                                strategy=&#x27;constant&#x27;)),\n",
       "                                                 (&#x27;onehotencoder&#x27;,\n",
       "                                                  OneHotEncoder(handle_unknown=&#x27;ignore&#x27;,\n",
       "                                                                sparse=False))]),\n",
       "                                 &lt;sklearn.compose._column_transformer.make_column_selector object at 0x13a7ba790&gt;)],\n",
       "                  verbose_feature_names_out=False)</pre><b>In a Jupyter environment, please rerun this cell to show the HTML representation or trust the notebook. <br />On GitHub, the HTML representation is unable to render, please try loading this page with nbviewer.org.</b></div><div class=\"sk-container\" hidden><div class=\"sk-item sk-dashed-wrapped\"><div class=\"sk-label-container\"><div class=\"sk-label sk-toggleable\"><input class=\"sk-toggleable__control sk-hidden--visually\" id=\"sk-estimator-id-1\" type=\"checkbox\" ><label for=\"sk-estimator-id-1\" class=\"sk-toggleable__label sk-toggleable__label-arrow\">ColumnTransformer</label><div class=\"sk-toggleable__content\"><pre>ColumnTransformer(transformers=[(&#x27;pipeline-1&#x27;,\n",
       "                                 Pipeline(steps=[(&#x27;simpleimputer&#x27;,\n",
       "                                                  SimpleImputer())]),\n",
       "                                 &lt;sklearn.compose._column_transformer.make_column_selector object at 0x13b1cc370&gt;),\n",
       "                                (&#x27;pipeline-2&#x27;,\n",
       "                                 Pipeline(steps=[(&#x27;simpleimputer&#x27;,\n",
       "                                                  SimpleImputer(fill_value=&#x27;MISSING&#x27;,\n",
       "                                                                strategy=&#x27;constant&#x27;)),\n",
       "                                                 (&#x27;onehotencoder&#x27;,\n",
       "                                                  OneHotEncoder(handle_unknown=&#x27;ignore&#x27;,\n",
       "                                                                sparse=False))]),\n",
       "                                 &lt;sklearn.compose._column_transformer.make_column_selector object at 0x13a7ba790&gt;)],\n",
       "                  verbose_feature_names_out=False)</pre></div></div></div><div class=\"sk-parallel\"><div class=\"sk-parallel-item\"><div class=\"sk-item\"><div class=\"sk-label-container\"><div class=\"sk-label sk-toggleable\"><input class=\"sk-toggleable__control sk-hidden--visually\" id=\"sk-estimator-id-2\" type=\"checkbox\" ><label for=\"sk-estimator-id-2\" class=\"sk-toggleable__label sk-toggleable__label-arrow\">pipeline-1</label><div class=\"sk-toggleable__content\"><pre>&lt;sklearn.compose._column_transformer.make_column_selector object at 0x13b1cc370&gt;</pre></div></div></div><div class=\"sk-serial\"><div class=\"sk-item\"><div class=\"sk-serial\"><div class=\"sk-item\"><div class=\"sk-estimator sk-toggleable\"><input class=\"sk-toggleable__control sk-hidden--visually\" id=\"sk-estimator-id-3\" type=\"checkbox\" ><label for=\"sk-estimator-id-3\" class=\"sk-toggleable__label sk-toggleable__label-arrow\">SimpleImputer</label><div class=\"sk-toggleable__content\"><pre>SimpleImputer()</pre></div></div></div></div></div></div></div></div><div class=\"sk-parallel-item\"><div class=\"sk-item\"><div class=\"sk-label-container\"><div class=\"sk-label sk-toggleable\"><input class=\"sk-toggleable__control sk-hidden--visually\" id=\"sk-estimator-id-4\" type=\"checkbox\" ><label for=\"sk-estimator-id-4\" class=\"sk-toggleable__label sk-toggleable__label-arrow\">pipeline-2</label><div class=\"sk-toggleable__content\"><pre>&lt;sklearn.compose._column_transformer.make_column_selector object at 0x13a7ba790&gt;</pre></div></div></div><div class=\"sk-serial\"><div class=\"sk-item\"><div class=\"sk-serial\"><div class=\"sk-item\"><div class=\"sk-estimator sk-toggleable\"><input class=\"sk-toggleable__control sk-hidden--visually\" id=\"sk-estimator-id-5\" type=\"checkbox\" ><label for=\"sk-estimator-id-5\" class=\"sk-toggleable__label sk-toggleable__label-arrow\">SimpleImputer</label><div class=\"sk-toggleable__content\"><pre>SimpleImputer(fill_value=&#x27;MISSING&#x27;, strategy=&#x27;constant&#x27;)</pre></div></div></div><div class=\"sk-item\"><div class=\"sk-estimator sk-toggleable\"><input class=\"sk-toggleable__control sk-hidden--visually\" id=\"sk-estimator-id-6\" type=\"checkbox\" ><label for=\"sk-estimator-id-6\" class=\"sk-toggleable__label sk-toggleable__label-arrow\">OneHotEncoder</label><div class=\"sk-toggleable__content\"><pre>OneHotEncoder(handle_unknown=&#x27;ignore&#x27;, sparse=False)</pre></div></div></div></div></div></div></div></div></div></div></div></div>"
      ],
      "text/plain": [
       "ColumnTransformer(transformers=[('pipeline-1',\n",
       "                                 Pipeline(steps=[('simpleimputer',\n",
       "                                                  SimpleImputer())]),\n",
       "                                 <sklearn.compose._column_transformer.make_column_selector object at 0x13b1cc370>),\n",
       "                                ('pipeline-2',\n",
       "                                 Pipeline(steps=[('simpleimputer',\n",
       "                                                  SimpleImputer(fill_value='MISSING',\n",
       "                                                                strategy='constant')),\n",
       "                                                 ('onehotencoder',\n",
       "                                                  OneHotEncoder(handle_unknown='ignore',\n",
       "                                                                sparse=False))]),\n",
       "                                 <sklearn.compose._column_transformer.make_column_selector object at 0x13a7ba790>)],\n",
       "                  verbose_feature_names_out=False)"
      ]
     },
     "execution_count": 26,
     "metadata": {},
     "output_type": "execute_result"
    }
   ],
   "source": [
    "# make the preprocessing column transformer\n",
    "preprocessor = make_column_transformer((num_pipe, num_sel), (cat_pipe, cat_sel), verbose_feature_names_out = False)                                  \n",
    "preprocessor"
   ]
  },
  {
   "cell_type": "code",
   "execution_count": 27,
   "id": "a3bb81e7",
   "metadata": {},
   "outputs": [
    {
     "data": {
      "text/plain": [
       "array(['Item_Weight', 'Item_Visibility', 'Item_MRP',\n",
       "       'Outlet_Establishment_Year', 'Outlet_Size',\n",
       "       'Item_Fat_Content_Low Fat', 'Item_Fat_Content_Regular',\n",
       "       'Item_Type_Baking Goods', 'Item_Type_Breads',\n",
       "       'Item_Type_Breakfast', 'Item_Type_Canned', 'Item_Type_Dairy',\n",
       "       'Item_Type_Frozen Foods', 'Item_Type_Fruits and Vegetables',\n",
       "       'Item_Type_Hard Drinks', 'Item_Type_Health and Hygiene',\n",
       "       'Item_Type_Household', 'Item_Type_Meat', 'Item_Type_Others',\n",
       "       'Item_Type_Seafood', 'Item_Type_Snack Foods',\n",
       "       'Item_Type_Soft Drinks', 'Item_Type_Starchy Foods',\n",
       "       'Outlet_Identifier_OUT010', 'Outlet_Identifier_OUT013',\n",
       "       'Outlet_Identifier_OUT017', 'Outlet_Identifier_OUT018',\n",
       "       'Outlet_Identifier_OUT019', 'Outlet_Identifier_OUT027',\n",
       "       'Outlet_Identifier_OUT035', 'Outlet_Identifier_OUT045',\n",
       "       'Outlet_Identifier_OUT046', 'Outlet_Identifier_OUT049',\n",
       "       'Outlet_Location_Type_Tier 1', 'Outlet_Location_Type_Tier 2',\n",
       "       'Outlet_Location_Type_Tier 3', 'Outlet_Type_Grocery Store',\n",
       "       'Outlet_Type_Supermarket Type1', 'Outlet_Type_Supermarket Type2',\n",
       "       'Outlet_Type_Supermarket Type3'], dtype=object)"
      ]
     },
     "execution_count": 27,
     "metadata": {},
     "output_type": "execute_result"
    }
   ],
   "source": [
    "# fit column transformer and run get_feature_names_out\n",
    "preprocessor.fit(X_train)\n",
    "feature_names = preprocessor.get_feature_names_out()\n",
    "feature_names"
   ]
  },
  {
   "cell_type": "code",
   "execution_count": 28,
   "id": "a1344fdf",
   "metadata": {},
   "outputs": [
    {
     "data": {
      "text/html": [
       "<div>\n",
       "<style scoped>\n",
       "    .dataframe tbody tr th:only-of-type {\n",
       "        vertical-align: middle;\n",
       "    }\n",
       "\n",
       "    .dataframe tbody tr th {\n",
       "        vertical-align: top;\n",
       "    }\n",
       "\n",
       "    .dataframe thead th {\n",
       "        text-align: right;\n",
       "    }\n",
       "</style>\n",
       "<table border=\"1\" class=\"dataframe\">\n",
       "  <thead>\n",
       "    <tr style=\"text-align: right;\">\n",
       "      <th></th>\n",
       "      <th>Item_Weight</th>\n",
       "      <th>Item_Visibility</th>\n",
       "      <th>Item_MRP</th>\n",
       "      <th>Outlet_Establishment_Year</th>\n",
       "      <th>Outlet_Size</th>\n",
       "      <th>Item_Fat_Content_Low Fat</th>\n",
       "      <th>Item_Fat_Content_Regular</th>\n",
       "      <th>Item_Type_Baking Goods</th>\n",
       "      <th>Item_Type_Breads</th>\n",
       "      <th>Item_Type_Breakfast</th>\n",
       "      <th>Item_Type_Canned</th>\n",
       "      <th>Item_Type_Dairy</th>\n",
       "      <th>Item_Type_Frozen Foods</th>\n",
       "      <th>Item_Type_Fruits and Vegetables</th>\n",
       "      <th>Item_Type_Hard Drinks</th>\n",
       "      <th>Item_Type_Health and Hygiene</th>\n",
       "      <th>Item_Type_Household</th>\n",
       "      <th>Item_Type_Meat</th>\n",
       "      <th>Item_Type_Others</th>\n",
       "      <th>Item_Type_Seafood</th>\n",
       "      <th>Item_Type_Snack Foods</th>\n",
       "      <th>Item_Type_Soft Drinks</th>\n",
       "      <th>Item_Type_Starchy Foods</th>\n",
       "      <th>Outlet_Identifier_OUT010</th>\n",
       "      <th>Outlet_Identifier_OUT013</th>\n",
       "      <th>Outlet_Identifier_OUT017</th>\n",
       "      <th>Outlet_Identifier_OUT018</th>\n",
       "      <th>Outlet_Identifier_OUT019</th>\n",
       "      <th>Outlet_Identifier_OUT027</th>\n",
       "      <th>Outlet_Identifier_OUT035</th>\n",
       "      <th>Outlet_Identifier_OUT045</th>\n",
       "      <th>Outlet_Identifier_OUT046</th>\n",
       "      <th>Outlet_Identifier_OUT049</th>\n",
       "      <th>Outlet_Location_Type_Tier 1</th>\n",
       "      <th>Outlet_Location_Type_Tier 2</th>\n",
       "      <th>Outlet_Location_Type_Tier 3</th>\n",
       "      <th>Outlet_Type_Grocery Store</th>\n",
       "      <th>Outlet_Type_Supermarket Type1</th>\n",
       "      <th>Outlet_Type_Supermarket Type2</th>\n",
       "      <th>Outlet_Type_Supermarket Type3</th>\n",
       "    </tr>\n",
       "  </thead>\n",
       "  <tbody>\n",
       "    <tr>\n",
       "      <th>8269</th>\n",
       "      <td>7.22</td>\n",
       "      <td>0.06</td>\n",
       "      <td>61.25</td>\n",
       "      <td>1,998.00</td>\n",
       "      <td>0.76</td>\n",
       "      <td>0.00</td>\n",
       "      <td>1.00</td>\n",
       "      <td>1.00</td>\n",
       "      <td>0.00</td>\n",
       "      <td>0.00</td>\n",
       "      <td>0.00</td>\n",
       "      <td>0.00</td>\n",
       "      <td>0.00</td>\n",
       "      <td>0.00</td>\n",
       "      <td>0.00</td>\n",
       "      <td>0.00</td>\n",
       "      <td>0.00</td>\n",
       "      <td>0.00</td>\n",
       "      <td>0.00</td>\n",
       "      <td>0.00</td>\n",
       "      <td>0.00</td>\n",
       "      <td>0.00</td>\n",
       "      <td>0.00</td>\n",
       "      <td>1.00</td>\n",
       "      <td>0.00</td>\n",
       "      <td>0.00</td>\n",
       "      <td>0.00</td>\n",
       "      <td>0.00</td>\n",
       "      <td>0.00</td>\n",
       "      <td>0.00</td>\n",
       "      <td>0.00</td>\n",
       "      <td>0.00</td>\n",
       "      <td>0.00</td>\n",
       "      <td>0.00</td>\n",
       "      <td>0.00</td>\n",
       "      <td>1.00</td>\n",
       "      <td>1.00</td>\n",
       "      <td>0.00</td>\n",
       "      <td>0.00</td>\n",
       "      <td>0.00</td>\n",
       "    </tr>\n",
       "    <tr>\n",
       "      <th>7604</th>\n",
       "      <td>6.13</td>\n",
       "      <td>0.08</td>\n",
       "      <td>111.29</td>\n",
       "      <td>2,009.00</td>\n",
       "      <td>1.00</td>\n",
       "      <td>1.00</td>\n",
       "      <td>0.00</td>\n",
       "      <td>0.00</td>\n",
       "      <td>0.00</td>\n",
       "      <td>0.00</td>\n",
       "      <td>0.00</td>\n",
       "      <td>0.00</td>\n",
       "      <td>0.00</td>\n",
       "      <td>0.00</td>\n",
       "      <td>0.00</td>\n",
       "      <td>0.00</td>\n",
       "      <td>0.00</td>\n",
       "      <td>0.00</td>\n",
       "      <td>0.00</td>\n",
       "      <td>0.00</td>\n",
       "      <td>0.00</td>\n",
       "      <td>1.00</td>\n",
       "      <td>0.00</td>\n",
       "      <td>0.00</td>\n",
       "      <td>0.00</td>\n",
       "      <td>0.00</td>\n",
       "      <td>1.00</td>\n",
       "      <td>0.00</td>\n",
       "      <td>0.00</td>\n",
       "      <td>0.00</td>\n",
       "      <td>0.00</td>\n",
       "      <td>0.00</td>\n",
       "      <td>0.00</td>\n",
       "      <td>0.00</td>\n",
       "      <td>0.00</td>\n",
       "      <td>1.00</td>\n",
       "      <td>0.00</td>\n",
       "      <td>0.00</td>\n",
       "      <td>1.00</td>\n",
       "      <td>0.00</td>\n",
       "    </tr>\n",
       "    <tr>\n",
       "      <th>2762</th>\n",
       "      <td>12.15</td>\n",
       "      <td>0.03</td>\n",
       "      <td>151.07</td>\n",
       "      <td>2,004.00</td>\n",
       "      <td>0.00</td>\n",
       "      <td>1.00</td>\n",
       "      <td>0.00</td>\n",
       "      <td>0.00</td>\n",
       "      <td>0.00</td>\n",
       "      <td>0.00</td>\n",
       "      <td>0.00</td>\n",
       "      <td>0.00</td>\n",
       "      <td>0.00</td>\n",
       "      <td>0.00</td>\n",
       "      <td>0.00</td>\n",
       "      <td>0.00</td>\n",
       "      <td>1.00</td>\n",
       "      <td>0.00</td>\n",
       "      <td>0.00</td>\n",
       "      <td>0.00</td>\n",
       "      <td>0.00</td>\n",
       "      <td>0.00</td>\n",
       "      <td>0.00</td>\n",
       "      <td>0.00</td>\n",
       "      <td>0.00</td>\n",
       "      <td>0.00</td>\n",
       "      <td>0.00</td>\n",
       "      <td>0.00</td>\n",
       "      <td>0.00</td>\n",
       "      <td>1.00</td>\n",
       "      <td>0.00</td>\n",
       "      <td>0.00</td>\n",
       "      <td>0.00</td>\n",
       "      <td>0.00</td>\n",
       "      <td>1.00</td>\n",
       "      <td>0.00</td>\n",
       "      <td>0.00</td>\n",
       "      <td>1.00</td>\n",
       "      <td>0.00</td>\n",
       "      <td>0.00</td>\n",
       "    </tr>\n",
       "    <tr>\n",
       "      <th>6464</th>\n",
       "      <td>5.95</td>\n",
       "      <td>0.09</td>\n",
       "      <td>127.87</td>\n",
       "      <td>2,004.00</td>\n",
       "      <td>0.00</td>\n",
       "      <td>1.00</td>\n",
       "      <td>0.00</td>\n",
       "      <td>0.00</td>\n",
       "      <td>0.00</td>\n",
       "      <td>0.00</td>\n",
       "      <td>0.00</td>\n",
       "      <td>0.00</td>\n",
       "      <td>0.00</td>\n",
       "      <td>0.00</td>\n",
       "      <td>0.00</td>\n",
       "      <td>0.00</td>\n",
       "      <td>1.00</td>\n",
       "      <td>0.00</td>\n",
       "      <td>0.00</td>\n",
       "      <td>0.00</td>\n",
       "      <td>0.00</td>\n",
       "      <td>0.00</td>\n",
       "      <td>0.00</td>\n",
       "      <td>0.00</td>\n",
       "      <td>0.00</td>\n",
       "      <td>0.00</td>\n",
       "      <td>0.00</td>\n",
       "      <td>0.00</td>\n",
       "      <td>0.00</td>\n",
       "      <td>1.00</td>\n",
       "      <td>0.00</td>\n",
       "      <td>0.00</td>\n",
       "      <td>0.00</td>\n",
       "      <td>0.00</td>\n",
       "      <td>1.00</td>\n",
       "      <td>0.00</td>\n",
       "      <td>0.00</td>\n",
       "      <td>1.00</td>\n",
       "      <td>0.00</td>\n",
       "      <td>0.00</td>\n",
       "    </tr>\n",
       "    <tr>\n",
       "      <th>4707</th>\n",
       "      <td>18.20</td>\n",
       "      <td>0.07</td>\n",
       "      <td>247.21</td>\n",
       "      <td>2,004.00</td>\n",
       "      <td>0.00</td>\n",
       "      <td>0.00</td>\n",
       "      <td>1.00</td>\n",
       "      <td>0.00</td>\n",
       "      <td>0.00</td>\n",
       "      <td>0.00</td>\n",
       "      <td>0.00</td>\n",
       "      <td>0.00</td>\n",
       "      <td>0.00</td>\n",
       "      <td>1.00</td>\n",
       "      <td>0.00</td>\n",
       "      <td>0.00</td>\n",
       "      <td>0.00</td>\n",
       "      <td>0.00</td>\n",
       "      <td>0.00</td>\n",
       "      <td>0.00</td>\n",
       "      <td>0.00</td>\n",
       "      <td>0.00</td>\n",
       "      <td>0.00</td>\n",
       "      <td>0.00</td>\n",
       "      <td>0.00</td>\n",
       "      <td>0.00</td>\n",
       "      <td>0.00</td>\n",
       "      <td>0.00</td>\n",
       "      <td>0.00</td>\n",
       "      <td>1.00</td>\n",
       "      <td>0.00</td>\n",
       "      <td>0.00</td>\n",
       "      <td>0.00</td>\n",
       "      <td>0.00</td>\n",
       "      <td>1.00</td>\n",
       "      <td>0.00</td>\n",
       "      <td>0.00</td>\n",
       "      <td>1.00</td>\n",
       "      <td>0.00</td>\n",
       "      <td>0.00</td>\n",
       "    </tr>\n",
       "  </tbody>\n",
       "</table>\n",
       "</div>"
      ],
      "text/plain": [
       "      Item_Weight  Item_Visibility  Item_MRP  Outlet_Establishment_Year  \\\n",
       "8269         7.22             0.06     61.25                   1,998.00   \n",
       "7604         6.13             0.08    111.29                   2,009.00   \n",
       "2762        12.15             0.03    151.07                   2,004.00   \n",
       "6464         5.95             0.09    127.87                   2,004.00   \n",
       "4707        18.20             0.07    247.21                   2,004.00   \n",
       "\n",
       "      Outlet_Size  Item_Fat_Content_Low Fat  Item_Fat_Content_Regular  \\\n",
       "8269         0.76                      0.00                      1.00   \n",
       "7604         1.00                      1.00                      0.00   \n",
       "2762         0.00                      1.00                      0.00   \n",
       "6464         0.00                      1.00                      0.00   \n",
       "4707         0.00                      0.00                      1.00   \n",
       "\n",
       "      Item_Type_Baking Goods  Item_Type_Breads  Item_Type_Breakfast  \\\n",
       "8269                    1.00              0.00                 0.00   \n",
       "7604                    0.00              0.00                 0.00   \n",
       "2762                    0.00              0.00                 0.00   \n",
       "6464                    0.00              0.00                 0.00   \n",
       "4707                    0.00              0.00                 0.00   \n",
       "\n",
       "      Item_Type_Canned  Item_Type_Dairy  Item_Type_Frozen Foods  \\\n",
       "8269              0.00             0.00                    0.00   \n",
       "7604              0.00             0.00                    0.00   \n",
       "2762              0.00             0.00                    0.00   \n",
       "6464              0.00             0.00                    0.00   \n",
       "4707              0.00             0.00                    0.00   \n",
       "\n",
       "      Item_Type_Fruits and Vegetables  Item_Type_Hard Drinks  \\\n",
       "8269                             0.00                   0.00   \n",
       "7604                             0.00                   0.00   \n",
       "2762                             0.00                   0.00   \n",
       "6464                             0.00                   0.00   \n",
       "4707                             1.00                   0.00   \n",
       "\n",
       "      Item_Type_Health and Hygiene  Item_Type_Household  Item_Type_Meat  \\\n",
       "8269                          0.00                 0.00            0.00   \n",
       "7604                          0.00                 0.00            0.00   \n",
       "2762                          0.00                 1.00            0.00   \n",
       "6464                          0.00                 1.00            0.00   \n",
       "4707                          0.00                 0.00            0.00   \n",
       "\n",
       "      Item_Type_Others  Item_Type_Seafood  Item_Type_Snack Foods  \\\n",
       "8269              0.00               0.00                   0.00   \n",
       "7604              0.00               0.00                   0.00   \n",
       "2762              0.00               0.00                   0.00   \n",
       "6464              0.00               0.00                   0.00   \n",
       "4707              0.00               0.00                   0.00   \n",
       "\n",
       "      Item_Type_Soft Drinks  Item_Type_Starchy Foods  \\\n",
       "8269                   0.00                     0.00   \n",
       "7604                   1.00                     0.00   \n",
       "2762                   0.00                     0.00   \n",
       "6464                   0.00                     0.00   \n",
       "4707                   0.00                     0.00   \n",
       "\n",
       "      Outlet_Identifier_OUT010  Outlet_Identifier_OUT013  \\\n",
       "8269                      1.00                      0.00   \n",
       "7604                      0.00                      0.00   \n",
       "2762                      0.00                      0.00   \n",
       "6464                      0.00                      0.00   \n",
       "4707                      0.00                      0.00   \n",
       "\n",
       "      Outlet_Identifier_OUT017  Outlet_Identifier_OUT018  \\\n",
       "8269                      0.00                      0.00   \n",
       "7604                      0.00                      1.00   \n",
       "2762                      0.00                      0.00   \n",
       "6464                      0.00                      0.00   \n",
       "4707                      0.00                      0.00   \n",
       "\n",
       "      Outlet_Identifier_OUT019  Outlet_Identifier_OUT027  \\\n",
       "8269                      0.00                      0.00   \n",
       "7604                      0.00                      0.00   \n",
       "2762                      0.00                      0.00   \n",
       "6464                      0.00                      0.00   \n",
       "4707                      0.00                      0.00   \n",
       "\n",
       "      Outlet_Identifier_OUT035  Outlet_Identifier_OUT045  \\\n",
       "8269                      0.00                      0.00   \n",
       "7604                      0.00                      0.00   \n",
       "2762                      1.00                      0.00   \n",
       "6464                      1.00                      0.00   \n",
       "4707                      1.00                      0.00   \n",
       "\n",
       "      Outlet_Identifier_OUT046  Outlet_Identifier_OUT049  \\\n",
       "8269                      0.00                      0.00   \n",
       "7604                      0.00                      0.00   \n",
       "2762                      0.00                      0.00   \n",
       "6464                      0.00                      0.00   \n",
       "4707                      0.00                      0.00   \n",
       "\n",
       "      Outlet_Location_Type_Tier 1  Outlet_Location_Type_Tier 2  \\\n",
       "8269                         0.00                         0.00   \n",
       "7604                         0.00                         0.00   \n",
       "2762                         0.00                         1.00   \n",
       "6464                         0.00                         1.00   \n",
       "4707                         0.00                         1.00   \n",
       "\n",
       "      Outlet_Location_Type_Tier 3  Outlet_Type_Grocery Store  \\\n",
       "8269                         1.00                       1.00   \n",
       "7604                         1.00                       0.00   \n",
       "2762                         0.00                       0.00   \n",
       "6464                         0.00                       0.00   \n",
       "4707                         0.00                       0.00   \n",
       "\n",
       "      Outlet_Type_Supermarket Type1  Outlet_Type_Supermarket Type2  \\\n",
       "8269                           0.00                           0.00   \n",
       "7604                           0.00                           1.00   \n",
       "2762                           1.00                           0.00   \n",
       "6464                           1.00                           0.00   \n",
       "4707                           1.00                           0.00   \n",
       "\n",
       "      Outlet_Type_Supermarket Type3  \n",
       "8269                           0.00  \n",
       "7604                           0.00  \n",
       "2762                           0.00  \n",
       "6464                           0.00  \n",
       "4707                           0.00  "
      ]
     },
     "execution_count": 28,
     "metadata": {},
     "output_type": "execute_result"
    }
   ],
   "source": [
    "# create a preprocessed DataFrame for the training set.\n",
    "X_train_df = pd.DataFrame(preprocessor.transform(X_train), columns = feature_names, index = X_train.index)\n",
    "X_train_df.head()"
   ]
  },
  {
   "cell_type": "code",
   "execution_count": 29,
   "id": "76a2e0fa",
   "metadata": {},
   "outputs": [
    {
     "data": {
      "text/html": [
       "<div>\n",
       "<style scoped>\n",
       "    .dataframe tbody tr th:only-of-type {\n",
       "        vertical-align: middle;\n",
       "    }\n",
       "\n",
       "    .dataframe tbody tr th {\n",
       "        vertical-align: top;\n",
       "    }\n",
       "\n",
       "    .dataframe thead th {\n",
       "        text-align: right;\n",
       "    }\n",
       "</style>\n",
       "<table border=\"1\" class=\"dataframe\">\n",
       "  <thead>\n",
       "    <tr style=\"text-align: right;\">\n",
       "      <th></th>\n",
       "      <th>Item_Weight</th>\n",
       "      <th>Item_Visibility</th>\n",
       "      <th>Item_MRP</th>\n",
       "      <th>Outlet_Establishment_Year</th>\n",
       "      <th>Outlet_Size</th>\n",
       "      <th>Item_Fat_Content_Low Fat</th>\n",
       "      <th>Item_Fat_Content_Regular</th>\n",
       "      <th>Item_Type_Baking Goods</th>\n",
       "      <th>Item_Type_Breads</th>\n",
       "      <th>Item_Type_Breakfast</th>\n",
       "      <th>Item_Type_Canned</th>\n",
       "      <th>Item_Type_Dairy</th>\n",
       "      <th>Item_Type_Frozen Foods</th>\n",
       "      <th>Item_Type_Fruits and Vegetables</th>\n",
       "      <th>Item_Type_Hard Drinks</th>\n",
       "      <th>Item_Type_Health and Hygiene</th>\n",
       "      <th>Item_Type_Household</th>\n",
       "      <th>Item_Type_Meat</th>\n",
       "      <th>Item_Type_Others</th>\n",
       "      <th>Item_Type_Seafood</th>\n",
       "      <th>Item_Type_Snack Foods</th>\n",
       "      <th>Item_Type_Soft Drinks</th>\n",
       "      <th>Item_Type_Starchy Foods</th>\n",
       "      <th>Outlet_Identifier_OUT010</th>\n",
       "      <th>Outlet_Identifier_OUT013</th>\n",
       "      <th>Outlet_Identifier_OUT017</th>\n",
       "      <th>Outlet_Identifier_OUT018</th>\n",
       "      <th>Outlet_Identifier_OUT019</th>\n",
       "      <th>Outlet_Identifier_OUT027</th>\n",
       "      <th>Outlet_Identifier_OUT035</th>\n",
       "      <th>Outlet_Identifier_OUT045</th>\n",
       "      <th>Outlet_Identifier_OUT046</th>\n",
       "      <th>Outlet_Identifier_OUT049</th>\n",
       "      <th>Outlet_Location_Type_Tier 1</th>\n",
       "      <th>Outlet_Location_Type_Tier 2</th>\n",
       "      <th>Outlet_Location_Type_Tier 3</th>\n",
       "      <th>Outlet_Type_Grocery Store</th>\n",
       "      <th>Outlet_Type_Supermarket Type1</th>\n",
       "      <th>Outlet_Type_Supermarket Type2</th>\n",
       "      <th>Outlet_Type_Supermarket Type3</th>\n",
       "    </tr>\n",
       "  </thead>\n",
       "  <tbody>\n",
       "    <tr>\n",
       "      <th>8077</th>\n",
       "      <td>15.25</td>\n",
       "      <td>0.06</td>\n",
       "      <td>132.30</td>\n",
       "      <td>2,007.00</td>\n",
       "      <td>0.76</td>\n",
       "      <td>1.00</td>\n",
       "      <td>0.00</td>\n",
       "      <td>0.00</td>\n",
       "      <td>0.00</td>\n",
       "      <td>0.00</td>\n",
       "      <td>0.00</td>\n",
       "      <td>0.00</td>\n",
       "      <td>0.00</td>\n",
       "      <td>0.00</td>\n",
       "      <td>0.00</td>\n",
       "      <td>0.00</td>\n",
       "      <td>1.00</td>\n",
       "      <td>0.00</td>\n",
       "      <td>0.00</td>\n",
       "      <td>0.00</td>\n",
       "      <td>0.00</td>\n",
       "      <td>0.00</td>\n",
       "      <td>0.00</td>\n",
       "      <td>0.00</td>\n",
       "      <td>0.00</td>\n",
       "      <td>1.00</td>\n",
       "      <td>0.00</td>\n",
       "      <td>0.00</td>\n",
       "      <td>0.00</td>\n",
       "      <td>0.00</td>\n",
       "      <td>0.00</td>\n",
       "      <td>0.00</td>\n",
       "      <td>0.00</td>\n",
       "      <td>0.00</td>\n",
       "      <td>1.00</td>\n",
       "      <td>0.00</td>\n",
       "      <td>0.00</td>\n",
       "      <td>1.00</td>\n",
       "      <td>0.00</td>\n",
       "      <td>0.00</td>\n",
       "    </tr>\n",
       "    <tr>\n",
       "      <th>2391</th>\n",
       "      <td>17.85</td>\n",
       "      <td>0.04</td>\n",
       "      <td>127.10</td>\n",
       "      <td>1,997.00</td>\n",
       "      <td>0.00</td>\n",
       "      <td>1.00</td>\n",
       "      <td>0.00</td>\n",
       "      <td>0.00</td>\n",
       "      <td>0.00</td>\n",
       "      <td>0.00</td>\n",
       "      <td>0.00</td>\n",
       "      <td>0.00</td>\n",
       "      <td>0.00</td>\n",
       "      <td>0.00</td>\n",
       "      <td>0.00</td>\n",
       "      <td>0.00</td>\n",
       "      <td>0.00</td>\n",
       "      <td>0.00</td>\n",
       "      <td>0.00</td>\n",
       "      <td>0.00</td>\n",
       "      <td>1.00</td>\n",
       "      <td>0.00</td>\n",
       "      <td>0.00</td>\n",
       "      <td>0.00</td>\n",
       "      <td>0.00</td>\n",
       "      <td>0.00</td>\n",
       "      <td>0.00</td>\n",
       "      <td>0.00</td>\n",
       "      <td>0.00</td>\n",
       "      <td>0.00</td>\n",
       "      <td>0.00</td>\n",
       "      <td>1.00</td>\n",
       "      <td>0.00</td>\n",
       "      <td>1.00</td>\n",
       "      <td>0.00</td>\n",
       "      <td>0.00</td>\n",
       "      <td>0.00</td>\n",
       "      <td>1.00</td>\n",
       "      <td>0.00</td>\n",
       "      <td>0.00</td>\n",
       "    </tr>\n",
       "    <tr>\n",
       "      <th>163</th>\n",
       "      <td>7.27</td>\n",
       "      <td>0.07</td>\n",
       "      <td>114.25</td>\n",
       "      <td>1,997.00</td>\n",
       "      <td>0.00</td>\n",
       "      <td>1.00</td>\n",
       "      <td>0.00</td>\n",
       "      <td>0.00</td>\n",
       "      <td>0.00</td>\n",
       "      <td>0.00</td>\n",
       "      <td>0.00</td>\n",
       "      <td>0.00</td>\n",
       "      <td>0.00</td>\n",
       "      <td>0.00</td>\n",
       "      <td>0.00</td>\n",
       "      <td>0.00</td>\n",
       "      <td>0.00</td>\n",
       "      <td>0.00</td>\n",
       "      <td>0.00</td>\n",
       "      <td>0.00</td>\n",
       "      <td>0.00</td>\n",
       "      <td>1.00</td>\n",
       "      <td>0.00</td>\n",
       "      <td>0.00</td>\n",
       "      <td>0.00</td>\n",
       "      <td>0.00</td>\n",
       "      <td>0.00</td>\n",
       "      <td>0.00</td>\n",
       "      <td>0.00</td>\n",
       "      <td>0.00</td>\n",
       "      <td>0.00</td>\n",
       "      <td>1.00</td>\n",
       "      <td>0.00</td>\n",
       "      <td>1.00</td>\n",
       "      <td>0.00</td>\n",
       "      <td>0.00</td>\n",
       "      <td>0.00</td>\n",
       "      <td>1.00</td>\n",
       "      <td>0.00</td>\n",
       "      <td>0.00</td>\n",
       "    </tr>\n",
       "    <tr>\n",
       "      <th>4608</th>\n",
       "      <td>12.82</td>\n",
       "      <td>0.08</td>\n",
       "      <td>145.84</td>\n",
       "      <td>1,985.00</td>\n",
       "      <td>1.00</td>\n",
       "      <td>0.00</td>\n",
       "      <td>1.00</td>\n",
       "      <td>0.00</td>\n",
       "      <td>1.00</td>\n",
       "      <td>0.00</td>\n",
       "      <td>0.00</td>\n",
       "      <td>0.00</td>\n",
       "      <td>0.00</td>\n",
       "      <td>0.00</td>\n",
       "      <td>0.00</td>\n",
       "      <td>0.00</td>\n",
       "      <td>0.00</td>\n",
       "      <td>0.00</td>\n",
       "      <td>0.00</td>\n",
       "      <td>0.00</td>\n",
       "      <td>0.00</td>\n",
       "      <td>0.00</td>\n",
       "      <td>0.00</td>\n",
       "      <td>0.00</td>\n",
       "      <td>0.00</td>\n",
       "      <td>0.00</td>\n",
       "      <td>0.00</td>\n",
       "      <td>0.00</td>\n",
       "      <td>1.00</td>\n",
       "      <td>0.00</td>\n",
       "      <td>0.00</td>\n",
       "      <td>0.00</td>\n",
       "      <td>0.00</td>\n",
       "      <td>0.00</td>\n",
       "      <td>0.00</td>\n",
       "      <td>1.00</td>\n",
       "      <td>0.00</td>\n",
       "      <td>0.00</td>\n",
       "      <td>0.00</td>\n",
       "      <td>1.00</td>\n",
       "    </tr>\n",
       "    <tr>\n",
       "      <th>5544</th>\n",
       "      <td>13.50</td>\n",
       "      <td>0.12</td>\n",
       "      <td>161.69</td>\n",
       "      <td>1,998.00</td>\n",
       "      <td>0.76</td>\n",
       "      <td>1.00</td>\n",
       "      <td>0.00</td>\n",
       "      <td>0.00</td>\n",
       "      <td>0.00</td>\n",
       "      <td>0.00</td>\n",
       "      <td>0.00</td>\n",
       "      <td>0.00</td>\n",
       "      <td>0.00</td>\n",
       "      <td>0.00</td>\n",
       "      <td>0.00</td>\n",
       "      <td>0.00</td>\n",
       "      <td>1.00</td>\n",
       "      <td>0.00</td>\n",
       "      <td>0.00</td>\n",
       "      <td>0.00</td>\n",
       "      <td>0.00</td>\n",
       "      <td>0.00</td>\n",
       "      <td>0.00</td>\n",
       "      <td>1.00</td>\n",
       "      <td>0.00</td>\n",
       "      <td>0.00</td>\n",
       "      <td>0.00</td>\n",
       "      <td>0.00</td>\n",
       "      <td>0.00</td>\n",
       "      <td>0.00</td>\n",
       "      <td>0.00</td>\n",
       "      <td>0.00</td>\n",
       "      <td>0.00</td>\n",
       "      <td>0.00</td>\n",
       "      <td>0.00</td>\n",
       "      <td>1.00</td>\n",
       "      <td>1.00</td>\n",
       "      <td>0.00</td>\n",
       "      <td>0.00</td>\n",
       "      <td>0.00</td>\n",
       "    </tr>\n",
       "  </tbody>\n",
       "</table>\n",
       "</div>"
      ],
      "text/plain": [
       "      Item_Weight  Item_Visibility  Item_MRP  Outlet_Establishment_Year  \\\n",
       "8077        15.25             0.06    132.30                   2,007.00   \n",
       "2391        17.85             0.04    127.10                   1,997.00   \n",
       "163          7.27             0.07    114.25                   1,997.00   \n",
       "4608        12.82             0.08    145.84                   1,985.00   \n",
       "5544        13.50             0.12    161.69                   1,998.00   \n",
       "\n",
       "      Outlet_Size  Item_Fat_Content_Low Fat  Item_Fat_Content_Regular  \\\n",
       "8077         0.76                      1.00                      0.00   \n",
       "2391         0.00                      1.00                      0.00   \n",
       "163          0.00                      1.00                      0.00   \n",
       "4608         1.00                      0.00                      1.00   \n",
       "5544         0.76                      1.00                      0.00   \n",
       "\n",
       "      Item_Type_Baking Goods  Item_Type_Breads  Item_Type_Breakfast  \\\n",
       "8077                    0.00              0.00                 0.00   \n",
       "2391                    0.00              0.00                 0.00   \n",
       "163                     0.00              0.00                 0.00   \n",
       "4608                    0.00              1.00                 0.00   \n",
       "5544                    0.00              0.00                 0.00   \n",
       "\n",
       "      Item_Type_Canned  Item_Type_Dairy  Item_Type_Frozen Foods  \\\n",
       "8077              0.00             0.00                    0.00   \n",
       "2391              0.00             0.00                    0.00   \n",
       "163               0.00             0.00                    0.00   \n",
       "4608              0.00             0.00                    0.00   \n",
       "5544              0.00             0.00                    0.00   \n",
       "\n",
       "      Item_Type_Fruits and Vegetables  Item_Type_Hard Drinks  \\\n",
       "8077                             0.00                   0.00   \n",
       "2391                             0.00                   0.00   \n",
       "163                              0.00                   0.00   \n",
       "4608                             0.00                   0.00   \n",
       "5544                             0.00                   0.00   \n",
       "\n",
       "      Item_Type_Health and Hygiene  Item_Type_Household  Item_Type_Meat  \\\n",
       "8077                          0.00                 1.00            0.00   \n",
       "2391                          0.00                 0.00            0.00   \n",
       "163                           0.00                 0.00            0.00   \n",
       "4608                          0.00                 0.00            0.00   \n",
       "5544                          0.00                 1.00            0.00   \n",
       "\n",
       "      Item_Type_Others  Item_Type_Seafood  Item_Type_Snack Foods  \\\n",
       "8077              0.00               0.00                   0.00   \n",
       "2391              0.00               0.00                   1.00   \n",
       "163               0.00               0.00                   0.00   \n",
       "4608              0.00               0.00                   0.00   \n",
       "5544              0.00               0.00                   0.00   \n",
       "\n",
       "      Item_Type_Soft Drinks  Item_Type_Starchy Foods  \\\n",
       "8077                   0.00                     0.00   \n",
       "2391                   0.00                     0.00   \n",
       "163                    1.00                     0.00   \n",
       "4608                   0.00                     0.00   \n",
       "5544                   0.00                     0.00   \n",
       "\n",
       "      Outlet_Identifier_OUT010  Outlet_Identifier_OUT013  \\\n",
       "8077                      0.00                      0.00   \n",
       "2391                      0.00                      0.00   \n",
       "163                       0.00                      0.00   \n",
       "4608                      0.00                      0.00   \n",
       "5544                      1.00                      0.00   \n",
       "\n",
       "      Outlet_Identifier_OUT017  Outlet_Identifier_OUT018  \\\n",
       "8077                      1.00                      0.00   \n",
       "2391                      0.00                      0.00   \n",
       "163                       0.00                      0.00   \n",
       "4608                      0.00                      0.00   \n",
       "5544                      0.00                      0.00   \n",
       "\n",
       "      Outlet_Identifier_OUT019  Outlet_Identifier_OUT027  \\\n",
       "8077                      0.00                      0.00   \n",
       "2391                      0.00                      0.00   \n",
       "163                       0.00                      0.00   \n",
       "4608                      0.00                      1.00   \n",
       "5544                      0.00                      0.00   \n",
       "\n",
       "      Outlet_Identifier_OUT035  Outlet_Identifier_OUT045  \\\n",
       "8077                      0.00                      0.00   \n",
       "2391                      0.00                      0.00   \n",
       "163                       0.00                      0.00   \n",
       "4608                      0.00                      0.00   \n",
       "5544                      0.00                      0.00   \n",
       "\n",
       "      Outlet_Identifier_OUT046  Outlet_Identifier_OUT049  \\\n",
       "8077                      0.00                      0.00   \n",
       "2391                      1.00                      0.00   \n",
       "163                       1.00                      0.00   \n",
       "4608                      0.00                      0.00   \n",
       "5544                      0.00                      0.00   \n",
       "\n",
       "      Outlet_Location_Type_Tier 1  Outlet_Location_Type_Tier 2  \\\n",
       "8077                         0.00                         1.00   \n",
       "2391                         1.00                         0.00   \n",
       "163                          1.00                         0.00   \n",
       "4608                         0.00                         0.00   \n",
       "5544                         0.00                         0.00   \n",
       "\n",
       "      Outlet_Location_Type_Tier 3  Outlet_Type_Grocery Store  \\\n",
       "8077                         0.00                       0.00   \n",
       "2391                         0.00                       0.00   \n",
       "163                          0.00                       0.00   \n",
       "4608                         1.00                       0.00   \n",
       "5544                         1.00                       1.00   \n",
       "\n",
       "      Outlet_Type_Supermarket Type1  Outlet_Type_Supermarket Type2  \\\n",
       "8077                           1.00                           0.00   \n",
       "2391                           1.00                           0.00   \n",
       "163                            1.00                           0.00   \n",
       "4608                           0.00                           0.00   \n",
       "5544                           0.00                           0.00   \n",
       "\n",
       "      Outlet_Type_Supermarket Type3  \n",
       "8077                           0.00  \n",
       "2391                           0.00  \n",
       "163                            0.00  \n",
       "4608                           1.00  \n",
       "5544                           0.00  "
      ]
     },
     "execution_count": 29,
     "metadata": {},
     "output_type": "execute_result"
    }
   ],
   "source": [
    "# create a preprocessed DataFrame for the test set\n",
    "X_test_df = pd.DataFrame(preprocessor.transform(X_test), columns = feature_names, index = X_test.index)\n",
    "X_test_df.head()"
   ]
  },
  {
   "cell_type": "markdown",
   "id": "1f1fb6b6",
   "metadata": {},
   "source": [
    "## LinearRegression"
   ]
  },
  {
   "cell_type": "markdown",
   "id": "bd040f68",
   "metadata": {},
   "source": [
    "### Fit and evaluate the LinearRegresion model using the dataframe X_train and X_test data"
   ]
  },
  {
   "cell_type": "code",
   "execution_count": 30,
   "id": "db125f3e",
   "metadata": {},
   "outputs": [
    {
     "data": {
      "text/html": [
       "<style>#sk-container-id-2 {color: black;background-color: white;}#sk-container-id-2 pre{padding: 0;}#sk-container-id-2 div.sk-toggleable {background-color: white;}#sk-container-id-2 label.sk-toggleable__label {cursor: pointer;display: block;width: 100%;margin-bottom: 0;padding: 0.3em;box-sizing: border-box;text-align: center;}#sk-container-id-2 label.sk-toggleable__label-arrow:before {content: \"▸\";float: left;margin-right: 0.25em;color: #696969;}#sk-container-id-2 label.sk-toggleable__label-arrow:hover:before {color: black;}#sk-container-id-2 div.sk-estimator:hover label.sk-toggleable__label-arrow:before {color: black;}#sk-container-id-2 div.sk-toggleable__content {max-height: 0;max-width: 0;overflow: hidden;text-align: left;background-color: #f0f8ff;}#sk-container-id-2 div.sk-toggleable__content pre {margin: 0.2em;color: black;border-radius: 0.25em;background-color: #f0f8ff;}#sk-container-id-2 input.sk-toggleable__control:checked~div.sk-toggleable__content {max-height: 200px;max-width: 100%;overflow: auto;}#sk-container-id-2 input.sk-toggleable__control:checked~label.sk-toggleable__label-arrow:before {content: \"▾\";}#sk-container-id-2 div.sk-estimator input.sk-toggleable__control:checked~label.sk-toggleable__label {background-color: #d4ebff;}#sk-container-id-2 div.sk-label input.sk-toggleable__control:checked~label.sk-toggleable__label {background-color: #d4ebff;}#sk-container-id-2 input.sk-hidden--visually {border: 0;clip: rect(1px 1px 1px 1px);clip: rect(1px, 1px, 1px, 1px);height: 1px;margin: -1px;overflow: hidden;padding: 0;position: absolute;width: 1px;}#sk-container-id-2 div.sk-estimator {font-family: monospace;background-color: #f0f8ff;border: 1px dotted black;border-radius: 0.25em;box-sizing: border-box;margin-bottom: 0.5em;}#sk-container-id-2 div.sk-estimator:hover {background-color: #d4ebff;}#sk-container-id-2 div.sk-parallel-item::after {content: \"\";width: 100%;border-bottom: 1px solid gray;flex-grow: 1;}#sk-container-id-2 div.sk-label:hover label.sk-toggleable__label {background-color: #d4ebff;}#sk-container-id-2 div.sk-serial::before {content: \"\";position: absolute;border-left: 1px solid gray;box-sizing: border-box;top: 0;bottom: 0;left: 50%;z-index: 0;}#sk-container-id-2 div.sk-serial {display: flex;flex-direction: column;align-items: center;background-color: white;padding-right: 0.2em;padding-left: 0.2em;position: relative;}#sk-container-id-2 div.sk-item {position: relative;z-index: 1;}#sk-container-id-2 div.sk-parallel {display: flex;align-items: stretch;justify-content: center;background-color: white;position: relative;}#sk-container-id-2 div.sk-item::before, #sk-container-id-2 div.sk-parallel-item::before {content: \"\";position: absolute;border-left: 1px solid gray;box-sizing: border-box;top: 0;bottom: 0;left: 50%;z-index: -1;}#sk-container-id-2 div.sk-parallel-item {display: flex;flex-direction: column;z-index: 1;position: relative;background-color: white;}#sk-container-id-2 div.sk-parallel-item:first-child::after {align-self: flex-end;width: 50%;}#sk-container-id-2 div.sk-parallel-item:last-child::after {align-self: flex-start;width: 50%;}#sk-container-id-2 div.sk-parallel-item:only-child::after {width: 0;}#sk-container-id-2 div.sk-dashed-wrapped {border: 1px dashed gray;margin: 0 0.4em 0.5em 0.4em;box-sizing: border-box;padding-bottom: 0.4em;background-color: white;}#sk-container-id-2 div.sk-label label {font-family: monospace;font-weight: bold;display: inline-block;line-height: 1.2em;}#sk-container-id-2 div.sk-label-container {text-align: center;}#sk-container-id-2 div.sk-container {/* jupyter's `normalize.less` sets `[hidden] { display: none; }` but bootstrap.min.css set `[hidden] { display: none !important; }` so we also need the `!important` here to be able to override the default hidden behavior on the sphinx rendered scikit-learn.org. See: https://github.com/scikit-learn/scikit-learn/issues/21755 */display: inline-block !important;position: relative;}#sk-container-id-2 div.sk-text-repr-fallback {display: none;}</style><div id=\"sk-container-id-2\" class=\"sk-top-container\"><div class=\"sk-text-repr-fallback\"><pre>LinearRegression()</pre><b>In a Jupyter environment, please rerun this cell to show the HTML representation or trust the notebook. <br />On GitHub, the HTML representation is unable to render, please try loading this page with nbviewer.org.</b></div><div class=\"sk-container\" hidden><div class=\"sk-item\"><div class=\"sk-estimator sk-toggleable\"><input class=\"sk-toggleable__control sk-hidden--visually\" id=\"sk-estimator-id-7\" type=\"checkbox\" checked><label for=\"sk-estimator-id-7\" class=\"sk-toggleable__label sk-toggleable__label-arrow\">LinearRegression</label><div class=\"sk-toggleable__content\"><pre>LinearRegression()</pre></div></div></div></div></div>"
      ],
      "text/plain": [
       "LinearRegression()"
      ]
     },
     "execution_count": 30,
     "metadata": {},
     "output_type": "execute_result"
    }
   ],
   "source": [
    "#instantiate and fit a linear regression model\n",
    "lin_reg = LinearRegression()\n",
    "lin_reg.fit(X_train_df, y_train)"
   ]
  },
  {
   "cell_type": "code",
   "execution_count": 31,
   "id": "2005ee91",
   "metadata": {},
   "outputs": [
    {
     "name": "stdout",
     "output_type": "stream",
     "text": [
      "Training Data:\tR^2= 0.56\tRMSE= 1115.00\n",
      "Test Data:\tR^2= 0.56\tRMSE= 1164.50\n"
     ]
    }
   ],
   "source": [
    "#evaluate the training and test data using R-squared and RMSE\n",
    "evaluate_regression(lin_reg, X_train_df, y_train, X_test_df, y_test)"
   ]
  },
  {
   "cell_type": "markdown",
   "id": "0a241271",
   "metadata": {},
   "source": [
    "- The model accounts for 56% of the variation in the training data using the features.\n",
    "- The model accounts for 56% of the variation in the testing data using the features.\n",
    "- The RMSE for the training data is 1115.00, and the RMSE for the testing data is 1164.50, so the model is making some large errors."
   ]
  },
  {
   "cell_type": "markdown",
   "id": "07740408",
   "metadata": {},
   "source": [
    "### Extract and visualize the coefficients that the model determined"
   ]
  },
  {
   "cell_type": "markdown",
   "id": "ec6edc96",
   "metadata": {},
   "source": [
    "#### Extract the coefficients"
   ]
  },
  {
   "cell_type": "code",
   "execution_count": 32,
   "id": "2756995c",
   "metadata": {},
   "outputs": [
    {
     "data": {
      "text/plain": [
       "array([ 1.06785557e+00, -2.46442245e+02,  1.56021298e+01,  1.01896423e+13,\n",
       "        2.02480522e+14, -1.19256701e+12, -1.19256701e+12, -1.94456595e+12,\n",
       "       -1.94456595e+12, -1.94456595e+12, -1.94456595e+12, -1.94456595e+12,\n",
       "       -1.94456595e+12, -1.94456595e+12, -1.94456595e+12, -1.94456595e+12,\n",
       "       -1.94456595e+12, -1.94456595e+12, -1.94456595e+12, -1.94456595e+12,\n",
       "       -1.94456595e+12, -1.94456595e+12, -1.94456595e+12, -5.61333633e+13,\n",
       "       -5.82223062e+13, -8.95722637e+13, -7.11751307e+13,  7.01388151e+13,\n",
       "        5.10387449e+13,  9.49996478e+13, -3.86240520e+13,  8.46461582e+13,\n",
       "       -1.38213649e+14,  9.77292450e+13,  1.60482590e+13, -6.24669115e+13,\n",
       "        7.43017950e+13, -6.24812561e+13, -7.12200409e+13,  5.11174995e+13])"
      ]
     },
     "execution_count": 32,
     "metadata": {},
     "output_type": "execute_result"
    }
   ],
   "source": [
    "lin_reg.coef_"
   ]
  },
  {
   "cell_type": "code",
   "execution_count": 33,
   "id": "96e6d696",
   "metadata": {},
   "outputs": [
    {
     "data": {
      "text/plain": [
       "Item_Weight                                          1.07\n",
       "Item_Visibility                                   -246.44\n",
       "Item_MRP                                            15.60\n",
       "Outlet_Establishment_Year           10,189,642,336,922.73\n",
       "Outlet_Size                        202,480,522,111,786.88\n",
       "Item_Fat_Content_Low Fat            -1,192,567,010,224.04\n",
       "Item_Fat_Content_Regular            -1,192,567,010,192.29\n",
       "Item_Type_Baking Goods              -1,944,565,952,475.71\n",
       "Item_Type_Breads                    -1,944,565,952,484.67\n",
       "Item_Type_Breakfast                 -1,944,565,952,414.61\n",
       "Item_Type_Canned                    -1,944,565,952,461.46\n",
       "Item_Type_Dairy                     -1,944,565,952,536.07\n",
       "Item_Type_Frozen Foods              -1,944,565,952,490.64\n",
       "Item_Type_Fruits and Vegetables     -1,944,565,952,470.38\n",
       "Item_Type_Hard Drinks               -1,944,565,952,436.67\n",
       "Item_Type_Health and Hygiene        -1,944,565,952,525.39\n",
       "Item_Type_Household                 -1,944,565,952,552.87\n",
       "Item_Type_Meat                      -1,944,565,952,503.50\n",
       "Item_Type_Others                    -1,944,565,952,463.59\n",
       "Item_Type_Seafood                   -1,944,565,952,387.86\n",
       "Item_Type_Snack Foods               -1,944,565,952,499.47\n",
       "Item_Type_Soft Drinks               -1,944,565,952,606.98\n",
       "Item_Type_Starchy Foods             -1,944,565,952,451.18\n",
       "Outlet_Identifier_OUT010           -56,133,363,298,872.86\n",
       "Outlet_Identifier_OUT013           -58,222,306,242,877.05\n",
       "Outlet_Identifier_OUT017           -89,572,263,690,154.75\n",
       "Outlet_Identifier_OUT018           -71,175,130,716,024.16\n",
       "Outlet_Identifier_OUT019            70,138,815,113,569.49\n",
       "Outlet_Identifier_OUT027            51,038,744,878,091.60\n",
       "Outlet_Identifier_OUT035            94,999,647,796,393.30\n",
       "Outlet_Identifier_OUT045           -38,624,052,005,726.98\n",
       "Outlet_Identifier_OUT046            84,646,158,168,093.39\n",
       "Outlet_Identifier_OUT049          -138,213,648,617,448.03\n",
       "Outlet_Location_Type_Tier 1         97,729,244,988,225.42\n",
       "Outlet_Location_Type_Tier 2         16,048,259,001,623.31\n",
       "Outlet_Location_Type_Tier 3        -62,466,911,455,089.80\n",
       "Outlet_Type_Grocery Store           74,301,794,978,003.70\n",
       "Outlet_Type_Supermarket Type1      -62,481,256,117,724.59\n",
       "Outlet_Type_Supermarket Type2      -71,220,040,945,417.62\n",
       "Outlet_Type_Supermarket Type3       51,117,499,548,300.23\n",
       "dtype: float64"
      ]
     },
     "execution_count": 33,
     "metadata": {},
     "output_type": "execute_result"
    }
   ],
   "source": [
    "# save the coefficients\n",
    "coeffs = pd.Series(lin_reg.coef_, index= feature_names)\n",
    "coeffs"
   ]
  },
  {
   "cell_type": "markdown",
   "id": "43867e77",
   "metadata": {},
   "source": [
    "#### Recreate the X/y data with drop='first' to reduce multicollinearity"
   ]
  },
  {
   "cell_type": "code",
   "execution_count": 34,
   "id": "88ab4400",
   "metadata": {},
   "outputs": [],
   "source": [
    "# Make new x and y variables\n",
    "y = df['Item_Outlet_Sales'].copy()\n",
    "X = df.drop(columns=['Item_Outlet_Sales']).copy()\n",
    "# train-test-split with random state for reproducibility\n",
    "X_train, X_test, y_train, y_test = train_test_split(X, y, random_state = SEED)"
   ]
  },
  {
   "cell_type": "code",
   "execution_count": 35,
   "id": "2ec4d939",
   "metadata": {},
   "outputs": [],
   "source": [
    "# make new pipelines for categorical vs numeric data\n",
    "cat_pipe = make_pipeline(SimpleImputer(strategy = 'constant', fill_value = 'MISSING'), OneHotEncoder(drop = 'first', sparse = False))\n",
    "num_pipe = make_pipeline(SimpleImputer(strategy = 'mean'))\n",
    "## make the preprocessing column transformer\n",
    "preprocessor = make_column_transformer((num_pipe, num_sel), (cat_pipe, cat_sel), verbose_feature_names_out = False)\n",
    "## fit column transformer and run get_feature_names_out\n",
    "preprocessor.fit(X_train)\n",
    "feature_names = preprocessor.get_feature_names_out()\n",
    "# create the preprocessed DataFrame for the training set\n",
    "X_train_df = pd.DataFrame(preprocessor.transform(X_train), columns = feature_names, index = X_train.index)\n",
    "# create the preprocessed DataFrame for the test set\n",
    "X_test_df = pd.DataFrame(preprocessor.transform(X_test), columns = feature_names, index = X_test.index)"
   ]
  },
  {
   "cell_type": "code",
   "execution_count": 36,
   "id": "1a4afc2c",
   "metadata": {},
   "outputs": [
    {
     "data": {
      "text/html": [
       "<style>#sk-container-id-3 {color: black;background-color: white;}#sk-container-id-3 pre{padding: 0;}#sk-container-id-3 div.sk-toggleable {background-color: white;}#sk-container-id-3 label.sk-toggleable__label {cursor: pointer;display: block;width: 100%;margin-bottom: 0;padding: 0.3em;box-sizing: border-box;text-align: center;}#sk-container-id-3 label.sk-toggleable__label-arrow:before {content: \"▸\";float: left;margin-right: 0.25em;color: #696969;}#sk-container-id-3 label.sk-toggleable__label-arrow:hover:before {color: black;}#sk-container-id-3 div.sk-estimator:hover label.sk-toggleable__label-arrow:before {color: black;}#sk-container-id-3 div.sk-toggleable__content {max-height: 0;max-width: 0;overflow: hidden;text-align: left;background-color: #f0f8ff;}#sk-container-id-3 div.sk-toggleable__content pre {margin: 0.2em;color: black;border-radius: 0.25em;background-color: #f0f8ff;}#sk-container-id-3 input.sk-toggleable__control:checked~div.sk-toggleable__content {max-height: 200px;max-width: 100%;overflow: auto;}#sk-container-id-3 input.sk-toggleable__control:checked~label.sk-toggleable__label-arrow:before {content: \"▾\";}#sk-container-id-3 div.sk-estimator input.sk-toggleable__control:checked~label.sk-toggleable__label {background-color: #d4ebff;}#sk-container-id-3 div.sk-label input.sk-toggleable__control:checked~label.sk-toggleable__label {background-color: #d4ebff;}#sk-container-id-3 input.sk-hidden--visually {border: 0;clip: rect(1px 1px 1px 1px);clip: rect(1px, 1px, 1px, 1px);height: 1px;margin: -1px;overflow: hidden;padding: 0;position: absolute;width: 1px;}#sk-container-id-3 div.sk-estimator {font-family: monospace;background-color: #f0f8ff;border: 1px dotted black;border-radius: 0.25em;box-sizing: border-box;margin-bottom: 0.5em;}#sk-container-id-3 div.sk-estimator:hover {background-color: #d4ebff;}#sk-container-id-3 div.sk-parallel-item::after {content: \"\";width: 100%;border-bottom: 1px solid gray;flex-grow: 1;}#sk-container-id-3 div.sk-label:hover label.sk-toggleable__label {background-color: #d4ebff;}#sk-container-id-3 div.sk-serial::before {content: \"\";position: absolute;border-left: 1px solid gray;box-sizing: border-box;top: 0;bottom: 0;left: 50%;z-index: 0;}#sk-container-id-3 div.sk-serial {display: flex;flex-direction: column;align-items: center;background-color: white;padding-right: 0.2em;padding-left: 0.2em;position: relative;}#sk-container-id-3 div.sk-item {position: relative;z-index: 1;}#sk-container-id-3 div.sk-parallel {display: flex;align-items: stretch;justify-content: center;background-color: white;position: relative;}#sk-container-id-3 div.sk-item::before, #sk-container-id-3 div.sk-parallel-item::before {content: \"\";position: absolute;border-left: 1px solid gray;box-sizing: border-box;top: 0;bottom: 0;left: 50%;z-index: -1;}#sk-container-id-3 div.sk-parallel-item {display: flex;flex-direction: column;z-index: 1;position: relative;background-color: white;}#sk-container-id-3 div.sk-parallel-item:first-child::after {align-self: flex-end;width: 50%;}#sk-container-id-3 div.sk-parallel-item:last-child::after {align-self: flex-start;width: 50%;}#sk-container-id-3 div.sk-parallel-item:only-child::after {width: 0;}#sk-container-id-3 div.sk-dashed-wrapped {border: 1px dashed gray;margin: 0 0.4em 0.5em 0.4em;box-sizing: border-box;padding-bottom: 0.4em;background-color: white;}#sk-container-id-3 div.sk-label label {font-family: monospace;font-weight: bold;display: inline-block;line-height: 1.2em;}#sk-container-id-3 div.sk-label-container {text-align: center;}#sk-container-id-3 div.sk-container {/* jupyter's `normalize.less` sets `[hidden] { display: none; }` but bootstrap.min.css set `[hidden] { display: none !important; }` so we also need the `!important` here to be able to override the default hidden behavior on the sphinx rendered scikit-learn.org. See: https://github.com/scikit-learn/scikit-learn/issues/21755 */display: inline-block !important;position: relative;}#sk-container-id-3 div.sk-text-repr-fallback {display: none;}</style><div id=\"sk-container-id-3\" class=\"sk-top-container\"><div class=\"sk-text-repr-fallback\"><pre>LinearRegression()</pre><b>In a Jupyter environment, please rerun this cell to show the HTML representation or trust the notebook. <br />On GitHub, the HTML representation is unable to render, please try loading this page with nbviewer.org.</b></div><div class=\"sk-container\" hidden><div class=\"sk-item\"><div class=\"sk-estimator sk-toggleable\"><input class=\"sk-toggleable__control sk-hidden--visually\" id=\"sk-estimator-id-8\" type=\"checkbox\" checked><label for=\"sk-estimator-id-8\" class=\"sk-toggleable__label sk-toggleable__label-arrow\">LinearRegression</label><div class=\"sk-toggleable__content\"><pre>LinearRegression()</pre></div></div></div></div></div>"
      ],
      "text/plain": [
       "LinearRegression()"
      ]
     },
     "execution_count": 36,
     "metadata": {},
     "output_type": "execute_result"
    }
   ],
   "source": [
    "#re-instantiate and re-fit the linear regression model\n",
    "lin_reg = LinearRegression()\n",
    "lin_reg.fit(X_train_df, y_train)"
   ]
  },
  {
   "cell_type": "code",
   "execution_count": 37,
   "id": "d3a0f797",
   "metadata": {},
   "outputs": [
    {
     "name": "stdout",
     "output_type": "stream",
     "text": [
      "Training Data:\tR^2= 0.56\tRMSE= 1114.98\n",
      "Test Data:\tR^2= 0.56\tRMSE= 1164.41\n"
     ]
    }
   ],
   "source": [
    "#re-evaluate the training and test data using R-squared and RMSE\n",
    "evaluate_regression(lin_reg, X_train_df, y_train, X_test_df, y_test)"
   ]
  },
  {
   "cell_type": "code",
   "execution_count": 38,
   "id": "f9b5fc27",
   "metadata": {},
   "outputs": [
    {
     "data": {
      "text/plain": [
       "array([ 1.06785557e+00, -2.76611557e+02,  1.56019436e+01, -2.37623832e+01,\n",
       "        4.03119877e+02,  3.13765885e+01, -1.30695828e+01,  6.09070041e+01,\n",
       "        1.36229367e+01, -5.78207738e+01, -1.43851933e+01,  7.19622869e+00,\n",
       "        4.01578592e+01, -5.04769956e+01, -7.76193957e+01, -2.48894623e+01,\n",
       "        8.62970526e+00,  8.95230977e+01, -2.06803109e+01, -1.26833270e+02,\n",
       "        2.20998714e+01,  5.65011936e+01,  1.34901457e+02,  8.99052607e+02,\n",
       "       -5.27513256e+02,  1.45701445e+03,  4.17665597e+02, -1.65820958e+02,\n",
       "        4.81737811e+02,  2.16602527e+02,  3.86746095e+02, -5.57573177e+02,\n",
       "        1.14158763e+03,  8.99052607e+02,  1.45701445e+03])"
      ]
     },
     "execution_count": 38,
     "metadata": {},
     "output_type": "execute_result"
    }
   ],
   "source": [
    "#re-extract the coefficients\n",
    "lin_reg.coef_"
   ]
  },
  {
   "cell_type": "code",
   "execution_count": 39,
   "id": "1adda464",
   "metadata": {},
   "outputs": [
    {
     "data": {
      "text/plain": [
       "Item_Weight                           1.07\n",
       "Item_Visibility                    -276.61\n",
       "Item_MRP                             15.60\n",
       "Outlet_Establishment_Year           -23.76\n",
       "Outlet_Size                         403.12\n",
       "Item_Fat_Content_Regular             31.38\n",
       "Item_Type_Breads                    -13.07\n",
       "Item_Type_Breakfast                  60.91\n",
       "Item_Type_Canned                     13.62\n",
       "Item_Type_Dairy                     -57.82\n",
       "Item_Type_Frozen Foods              -14.39\n",
       "Item_Type_Fruits and Vegetables       7.20\n",
       "Item_Type_Hard Drinks                40.16\n",
       "Item_Type_Health and Hygiene        -50.48\n",
       "Item_Type_Household                 -77.62\n",
       "Item_Type_Meat                      -24.89\n",
       "Item_Type_Others                      8.63\n",
       "Item_Type_Seafood                    89.52\n",
       "Item_Type_Snack Foods               -20.68\n",
       "Item_Type_Soft Drinks              -126.83\n",
       "Item_Type_Starchy Foods              22.10\n",
       "Outlet_Identifier_OUT013             56.50\n",
       "Outlet_Identifier_OUT017            134.90\n",
       "Outlet_Identifier_OUT018            899.05\n",
       "Outlet_Identifier_OUT019           -527.51\n",
       "Outlet_Identifier_OUT027          1,457.01\n",
       "Outlet_Identifier_OUT035            417.67\n",
       "Outlet_Identifier_OUT045           -165.82\n",
       "Outlet_Identifier_OUT046            481.74\n",
       "Outlet_Identifier_OUT049            216.60\n",
       "Outlet_Location_Type_Tier 2         386.75\n",
       "Outlet_Location_Type_Tier 3        -557.57\n",
       "Outlet_Type_Supermarket Type1     1,141.59\n",
       "Outlet_Type_Supermarket Type2       899.05\n",
       "Outlet_Type_Supermarket Type3     1,457.01\n",
       "dtype: float64"
      ]
     },
     "execution_count": 39,
     "metadata": {},
     "output_type": "execute_result"
    }
   ],
   "source": [
    "#re-save the coefficients\n",
    "coeffs = pd.Series(lin_reg.coef_, index = feature_names)\n",
    "coeffs"
   ]
  },
  {
   "cell_type": "markdown",
   "id": "ffbd0266",
   "metadata": {},
   "source": [
    "#### Visualize the coefficients"
   ]
  },
  {
   "cell_type": "code",
   "execution_count": 40,
   "id": "bba9ace7",
   "metadata": {},
   "outputs": [
    {
     "data": {
      "image/png": "[encoded data removed]",
      "text/plain": [
       "<Figure size 400x500 with 1 Axes>"
      ]
     },
     "metadata": {},
     "output_type": "display_data"
    }
   ],
   "source": [
    "fig, ax = plt.subplots()\n",
    "plot_coeffs(coeffs)\n",
    "fig.tight_layout();\n",
    "fig.savefig('Images/All Coefficients.png', dpi = 300)"
   ]
  },
  {
   "cell_type": "code",
   "execution_count": 41,
   "id": "06d14f77",
   "metadata": {},
   "outputs": [
    {
     "data": {
      "image/png": "[encoded data removed]",
      "text/plain": [
       "<Figure size 400x500 with 1 Axes>"
      ]
     },
     "metadata": {},
     "output_type": "display_data"
    }
   ],
   "source": [
    "fig, ax = plt.subplots()\n",
    "ax = plot_coeffs(coeffs, top_n = 15, annotate = True)\n",
    "fig.tight_layout();\n",
    "fig.savefig('Images/Top 15 Largest Coefficients.png', dpi = 300)"
   ]
  },
  {
   "cell_type": "markdown",
   "id": "b8dd5617",
   "metadata": {},
   "source": [
    "#### Select the top 3 most impactful features and interpret their coefficients"
   ]
  },
  {
   "cell_type": "code",
   "execution_count": 42,
   "id": "8f9ba184",
   "metadata": {},
   "outputs": [
    {
     "data": {
      "text/plain": [
       "Outlet_Type_Supermarket Type3   1,457.01\n",
       "Outlet_Identifier_OUT027        1,457.01\n",
       "Outlet_Type_Supermarket Type1   1,141.59\n",
       "dtype: float64"
      ]
     },
     "execution_count": 42,
     "metadata": {},
     "output_type": "execute_result"
    }
   ],
   "source": [
    "coeffs.sort_values(ascending = False).head(3)"
   ]
  },
  {
   "cell_type": "markdown",
   "id": "a9804ae7",
   "metadata": {},
   "source": [
    "- Outlet_Type_Supermarket Type 3, Outlet_Identifier_OUT027, and Outlet_Type_Supermarket Type 1 had the most impact on the model.\n",
    "    - Outlet_Type_Supermarket Type 3:  Being in the Type 3 Supermarket group increases the item outlet sales by 1457.01.\n",
    "    - Outlet_Identifier_OUT027:  Being in the OUT027 group (being sold at OUT027) increases the item outlet sales by 1457.01.\n",
    "    - Outlet_Type_Supermarket Type 1:  Being in the Type 1 Supermarket group increases the item outlet sales by 1141.59."
   ]
  },
  {
   "cell_type": "markdown",
   "id": "06571a3e",
   "metadata": {},
   "source": [
    "### Save the figure as a .png file inside the repository"
   ]
  },
  {
   "cell_type": "markdown",
   "id": "6822878f",
   "metadata": {},
   "source": [
    "- All figures are saved as .png files in the repository."
   ]
  },
  {
   "cell_type": "markdown",
   "id": "7bffff6a",
   "metadata": {},
   "source": [
    "## Tree-Based Model"
   ]
  },
  {
   "cell_type": "markdown",
   "id": "1de73d03",
   "metadata": {},
   "source": [
    "### Fit and evaluate the tree-based regression model using the dataframe X_train and X_test data"
   ]
  },
  {
   "cell_type": "code",
   "execution_count": 43,
   "id": "30d558c0",
   "metadata": {},
   "outputs": [
    {
     "data": {
      "text/html": [
       "<style>#sk-container-id-4 {color: black;background-color: white;}#sk-container-id-4 pre{padding: 0;}#sk-container-id-4 div.sk-toggleable {background-color: white;}#sk-container-id-4 label.sk-toggleable__label {cursor: pointer;display: block;width: 100%;margin-bottom: 0;padding: 0.3em;box-sizing: border-box;text-align: center;}#sk-container-id-4 label.sk-toggleable__label-arrow:before {content: \"▸\";float: left;margin-right: 0.25em;color: #696969;}#sk-container-id-4 label.sk-toggleable__label-arrow:hover:before {color: black;}#sk-container-id-4 div.sk-estimator:hover label.sk-toggleable__label-arrow:before {color: black;}#sk-container-id-4 div.sk-toggleable__content {max-height: 0;max-width: 0;overflow: hidden;text-align: left;background-color: #f0f8ff;}#sk-container-id-4 div.sk-toggleable__content pre {margin: 0.2em;color: black;border-radius: 0.25em;background-color: #f0f8ff;}#sk-container-id-4 input.sk-toggleable__control:checked~div.sk-toggleable__content {max-height: 200px;max-width: 100%;overflow: auto;}#sk-container-id-4 input.sk-toggleable__control:checked~label.sk-toggleable__label-arrow:before {content: \"▾\";}#sk-container-id-4 div.sk-estimator input.sk-toggleable__control:checked~label.sk-toggleable__label {background-color: #d4ebff;}#sk-container-id-4 div.sk-label input.sk-toggleable__control:checked~label.sk-toggleable__label {background-color: #d4ebff;}#sk-container-id-4 input.sk-hidden--visually {border: 0;clip: rect(1px 1px 1px 1px);clip: rect(1px, 1px, 1px, 1px);height: 1px;margin: -1px;overflow: hidden;padding: 0;position: absolute;width: 1px;}#sk-container-id-4 div.sk-estimator {font-family: monospace;background-color: #f0f8ff;border: 1px dotted black;border-radius: 0.25em;box-sizing: border-box;margin-bottom: 0.5em;}#sk-container-id-4 div.sk-estimator:hover {background-color: #d4ebff;}#sk-container-id-4 div.sk-parallel-item::after {content: \"\";width: 100%;border-bottom: 1px solid gray;flex-grow: 1;}#sk-container-id-4 div.sk-label:hover label.sk-toggleable__label {background-color: #d4ebff;}#sk-container-id-4 div.sk-serial::before {content: \"\";position: absolute;border-left: 1px solid gray;box-sizing: border-box;top: 0;bottom: 0;left: 50%;z-index: 0;}#sk-container-id-4 div.sk-serial {display: flex;flex-direction: column;align-items: center;background-color: white;padding-right: 0.2em;padding-left: 0.2em;position: relative;}#sk-container-id-4 div.sk-item {position: relative;z-index: 1;}#sk-container-id-4 div.sk-parallel {display: flex;align-items: stretch;justify-content: center;background-color: white;position: relative;}#sk-container-id-4 div.sk-item::before, #sk-container-id-4 div.sk-parallel-item::before {content: \"\";position: absolute;border-left: 1px solid gray;box-sizing: border-box;top: 0;bottom: 0;left: 50%;z-index: -1;}#sk-container-id-4 div.sk-parallel-item {display: flex;flex-direction: column;z-index: 1;position: relative;background-color: white;}#sk-container-id-4 div.sk-parallel-item:first-child::after {align-self: flex-end;width: 50%;}#sk-container-id-4 div.sk-parallel-item:last-child::after {align-self: flex-start;width: 50%;}#sk-container-id-4 div.sk-parallel-item:only-child::after {width: 0;}#sk-container-id-4 div.sk-dashed-wrapped {border: 1px dashed gray;margin: 0 0.4em 0.5em 0.4em;box-sizing: border-box;padding-bottom: 0.4em;background-color: white;}#sk-container-id-4 div.sk-label label {font-family: monospace;font-weight: bold;display: inline-block;line-height: 1.2em;}#sk-container-id-4 div.sk-label-container {text-align: center;}#sk-container-id-4 div.sk-container {/* jupyter's `normalize.less` sets `[hidden] { display: none; }` but bootstrap.min.css set `[hidden] { display: none !important; }` so we also need the `!important` here to be able to override the default hidden behavior on the sphinx rendered scikit-learn.org. See: https://github.com/scikit-learn/scikit-learn/issues/21755 */display: inline-block !important;position: relative;}#sk-container-id-4 div.sk-text-repr-fallback {display: none;}</style><div id=\"sk-container-id-4\" class=\"sk-top-container\"><div class=\"sk-text-repr-fallback\"><pre>DecisionTreeRegressor(random_state=321)</pre><b>In a Jupyter environment, please rerun this cell to show the HTML representation or trust the notebook. <br />On GitHub, the HTML representation is unable to render, please try loading this page with nbviewer.org.</b></div><div class=\"sk-container\" hidden><div class=\"sk-item\"><div class=\"sk-estimator sk-toggleable\"><input class=\"sk-toggleable__control sk-hidden--visually\" id=\"sk-estimator-id-9\" type=\"checkbox\" checked><label for=\"sk-estimator-id-9\" class=\"sk-toggleable__label sk-toggleable__label-arrow\">DecisionTreeRegressor</label><div class=\"sk-toggleable__content\"><pre>DecisionTreeRegressor(random_state=321)</pre></div></div></div></div></div>"
      ],
      "text/plain": [
       "DecisionTreeRegressor(random_state=321)"
      ]
     },
     "execution_count": 43,
     "metadata": {},
     "output_type": "execute_result"
    }
   ],
   "source": [
    "#instantiate and fit a decision tree regressor model\n",
    "dec_tree = DecisionTreeRegressor(random_state = SEED)\n",
    "dec_tree.fit(X_train_df, y_train)"
   ]
  },
  {
   "cell_type": "code",
   "execution_count": 44,
   "id": "47a64ffc",
   "metadata": {},
   "outputs": [
    {
     "name": "stdout",
     "output_type": "stream",
     "text": [
      "Training Data:\tR^2= 1.00\tRMSE= 0.00\n",
      "Test Data:\tR^2= 0.19\tRMSE= 1576.13\n"
     ]
    }
   ],
   "source": [
    "#evaluate the training and test data using R-squared and RMSE\n",
    "evaluate_regression(dec_tree, X_train_df, y_train, X_test_df, y_test)"
   ]
  },
  {
   "cell_type": "markdown",
   "id": "b1db2217",
   "metadata": {},
   "source": [
    "- The model accounts for 100% of the variation in the training data using the features.\n",
    "- The model accounts for 19% of the variation in the testing data using the features.  The model is overfitting on the training data\n",
    "- The RMSE for the training data is 0, and the RMSE for the testing data is 1576.13 so the model is making some large errors on the testing data."
   ]
  },
  {
   "cell_type": "markdown",
   "id": "e05b624c",
   "metadata": {},
   "source": [
    "### Extract and visualize the feature importances that the model determined"
   ]
  },
  {
   "cell_type": "markdown",
   "id": "72fdeca9",
   "metadata": {},
   "source": [
    "#### Extract feature importances"
   ]
  },
  {
   "cell_type": "code",
   "execution_count": 45,
   "id": "702edea9",
   "metadata": {},
   "outputs": [],
   "source": [
    "importances = get_importances(dec_tree)"
   ]
  },
  {
   "cell_type": "markdown",
   "id": "2bbd17fd",
   "metadata": {},
   "source": [
    "#### Plot feature importances"
   ]
  },
  {
   "cell_type": "code",
   "execution_count": 46,
   "id": "af826c19",
   "metadata": {},
   "outputs": [
    {
     "data": {
      "image/png": "[encoded data removed]",
      "text/plain": [
       "<Figure size 800x600 with 1 Axes>"
      ]
     },
     "metadata": {},
     "output_type": "display_data"
    }
   ],
   "source": [
    "fig, ax = plt.subplots()\n",
    "plot_importance(importances)\n",
    "fig.tight_layout();\n",
    "fig.savefig('Images/All Feature Importances.png', dpi = 300)"
   ]
  },
  {
   "cell_type": "code",
   "execution_count": 47,
   "id": "4a9f8441",
   "metadata": {},
   "outputs": [
    {
     "data": {
      "image/png": "[encoded data removed]",
      "text/plain": [
       "<Figure size 800x600 with 1 Axes>"
      ]
     },
     "metadata": {},
     "output_type": "display_data"
    }
   ],
   "source": [
    "fig, ax = plt.subplots()\n",
    "plot_importance(importances, top_n = 15)\n",
    "fig.tight_layout();\n",
    "fig.savefig('Images/Top 15 Most Important Features.png', dpi = 300)"
   ]
  },
  {
   "cell_type": "markdown",
   "id": "36611d53",
   "metadata": {},
   "source": [
    "#### Identify the top 5 most important features"
   ]
  },
  {
   "cell_type": "code",
   "execution_count": 48,
   "id": "47465873",
   "metadata": {},
   "outputs": [
    {
     "data": {
      "text/plain": [
       "Item_MRP                        0.45\n",
       "Item_Visibility                 0.11\n",
       "Outlet_Identifier_OUT027        0.11\n",
       "Outlet_Type_Supermarket Type1   0.10\n",
       "Outlet_Size                     0.06\n",
       "Name: Feature Importance, dtype: float64"
      ]
     },
     "execution_count": 48,
     "metadata": {},
     "output_type": "execute_result"
    }
   ],
   "source": [
    "importances.sort_values(ascending = False).head()"
   ]
  },
  {
   "cell_type": "markdown",
   "id": "4c4bf9ab",
   "metadata": {},
   "source": [
    "- The 5 most important features were Item_MRP, Item_Visibility, Outlet_Identifier_OUT027, Outlet_Type_Supermarket Type1, and Outlet_Size.\n",
    "- These features are the most helpful features for this tree-based model to separate the data for predicting the item outlet sales."
   ]
  },
  {
   "cell_type": "markdown",
   "id": "b893c7bf",
   "metadata": {},
   "source": [
    "### Save the figure as a .png file inside the repository"
   ]
  },
  {
   "cell_type": "markdown",
   "id": "e1e1cea1",
   "metadata": {},
   "source": [
    "- All figures are saved as .png files in the repository."
   ]
  },
  {
   "cell_type": "markdown",
   "id": "9adf4474",
   "metadata": {},
   "source": [
    "## Serialize the Best Models with Joblib"
   ]
  },
  {
   "cell_type": "markdown",
   "id": "3f4262fe",
   "metadata": {},
   "source": [
    "### Save the following key: value pairs as a dictionary in a joblib file named \"best-models.joblib\"\n",
    "- \"preprocessor\": preprocessing column transformer\n",
    "- \"X_train\": training features.\n",
    "- \"X_test\": test features.\n",
    "- \"y_train\": training target.\n",
    "- \"y_test\": test target.\n",
    "- \"LinearRegression\": best linear regression\n",
    "- \"DecisionTreeRegressor\": best tree-based model"
   ]
  },
  {
   "cell_type": "code",
   "execution_count": 49,
   "id": "695adee9",
   "metadata": {},
   "outputs": [
    {
     "data": {
      "text/plain": [
       "['best-models.joblib']"
      ]
     },
     "execution_count": 49,
     "metadata": {},
     "output_type": "execute_result"
    }
   ],
   "source": [
    "export = {'preprocessor': preprocessor,\n",
    "          'X_train':X_train_df,\n",
    "          'y_train': y_train,\n",
    "          'X_test':X_test_df,\n",
    "          'y_test': y_test,\n",
    "          'LinearRegression': lin_reg,\n",
    "          'DecisionTreeRegressor': dec_tree}\n",
    "joblib.dump(export, 'best-models.joblib')"
   ]
  },
  {
   "cell_type": "markdown",
   "id": "85c4de83",
   "metadata": {},
   "source": [
    "#### Save the joblib file inside the repository"
   ]
  },
  {
   "cell_type": "markdown",
   "id": "fb53137b",
   "metadata": {},
   "source": [
    "- The joblib file is saved in the repository."
   ]
  }
 ],
 "metadata": {
  "kernelspec": {
   "display_name": "Python (dojo-env)",
   "language": "python",
   "name": "dojo-env"
  },
  "language_info": {
   "codemirror_mode": {
    "name": "ipython",
    "version": 3
   },
   "file_extension": ".py",
   "mimetype": "text/x-python",
   "name": "python",
   "nbconvert_exporter": "python",
   "pygments_lexer": "ipython3",
   "version": "3.9.15"
  },
  "toc": {
   "base_numbering": 1,
   "nav_menu": {},
   "number_sections": false,
   "sideBar": true,
   "skip_h1_title": false,
   "title_cell": "Table of Contents",
   "title_sidebar": "Contents",
   "toc_cell": false,
   "toc_position": {},
   "toc_section_display": true,
   "toc_window_display": false
  }
 },
 "nbformat": 4,
 "nbformat_minor": 5
}
